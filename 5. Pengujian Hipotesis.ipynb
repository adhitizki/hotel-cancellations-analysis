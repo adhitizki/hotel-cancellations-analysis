{
 "cells": [
  {
   "cell_type": "markdown",
   "id": "09ab58cc",
   "metadata": {
    "id": "09ab58cc"
   },
   "source": [
    "# Question"
   ]
  },
  {
   "cell_type": "markdown",
   "id": "881b6c59",
   "metadata": {
    "id": "881b6c59"
   },
   "source": [
    "## 5 - Pengujian Hipotesis\n",
    "\n",
    "1. Apakah terdapat pengaruh besar pada deposit_type dengan pembatalan hotel?\n",
    "  - H0 : Tidak terdapat pengaruh besar anatara deposit_type dengan pembatalan hotel\n",
    "  - H1 : Terdapat pengaruh besar antara deposit_type dengan pembatalan hotel\n",
    "  \n",
    "2. Apakah terdapat perbedaan siginifikan antara rerata ADR untuk pemesanan yang dibatalkan dan tidak?\n",
    "  - H0 : Tidak terdapat perbedaan signifikan antara rata-rata ADR antara reservasi yang dibatalkan dan tidak dibatalkan\n",
    "  - H1 : Terdapat perbedaan signifikan dalam rata-rata ADR antara reservasi yang dibatalkan dan tidak dibatalkan\n",
    "\n",
    "3. Apakah variansadr city hotel dengan resort hotel sama?\n",
    "  - H0 : Varians adr city hotel dengan resort hotel berbeda\n",
    "  - H1 : Varians adr city hotel dengan resort hotel sama\n",
    "\n",
    "4. Apakah terdapat perbedaan signifikan dalam proporsi pembatalan antara pemesanan melalui distribusi agensi atau organizer dengan yang langsung (GDS, direct, corporate)?\n",
    "  - H0 : Tidak terdapat perbedaan signifikan dalam proporsi pembatalan antara agensi dan organizer dengan lainnya\n",
    "  - H1 : Terdapat perbedaan signifikan dalam proporsi pembatalan antara agensi dan organizer dengan lainnya"
   ]
  },
  {
   "cell_type": "markdown",
   "id": "1dfde3ac",
   "metadata": {
    "id": "1dfde3ac"
   },
   "source": [
    "# Import Libraries"
   ]
  },
  {
   "cell_type": "code",
   "execution_count": 1,
   "id": "e504f831",
   "metadata": {
    "executionInfo": {
     "elapsed": 454,
     "status": "ok",
     "timestamp": 1680589785459,
     "user": {
      "displayName": "Adhitya Izki Saputra",
      "userId": "15175889346381788584"
     },
     "user_tz": -420
    },
    "id": "e504f831"
   },
   "outputs": [],
   "source": [
    "import numpy as np\n",
    "import pandas as pd\n",
    "import matplotlib.pyplot as plt\n",
    "import seaborn as sns\n",
    "from scipy.stats import chi2_contingency, f, norm, normaltest, mannwhitneyu\n",
    "from statsmodels.stats.proportion import proportions_ztest\n",
    "\n",
    "import warnings\n",
    "warnings.filterwarnings(\"ignore\")\n",
    "pd.set_option('display.max_columns', None)\n",
    "pd.set_option('display.max_rows', None)\n",
    "sns.set_style(\"darkgrid\")"
   ]
  },
  {
   "cell_type": "markdown",
   "id": "5d7c7975",
   "metadata": {
    "id": "5d7c7975"
   },
   "source": [
    "# Import Dataset"
   ]
  },
  {
   "cell_type": "code",
   "execution_count": 2,
   "id": "4cabd995",
   "metadata": {
    "colab": {
     "base_uri": "https://localhost:8080/",
     "height": 357
    },
    "executionInfo": {
     "elapsed": 1644,
     "status": "ok",
     "timestamp": 1680581732096,
     "user": {
      "displayName": "Adhitya Izki Saputra",
      "userId": "15175889346381788584"
     },
     "user_tz": -420
    },
    "id": "4cabd995",
    "outputId": "aaad7eae-4f48-4bf9-c4d5-160164fde441"
   },
   "outputs": [
    {
     "data": {
      "text/html": [
       "<div>\n",
       "<style scoped>\n",
       "    .dataframe tbody tr th:only-of-type {\n",
       "        vertical-align: middle;\n",
       "    }\n",
       "\n",
       "    .dataframe tbody tr th {\n",
       "        vertical-align: top;\n",
       "    }\n",
       "\n",
       "    .dataframe thead th {\n",
       "        text-align: right;\n",
       "    }\n",
       "</style>\n",
       "<table border=\"1\" class=\"dataframe\">\n",
       "  <thead>\n",
       "    <tr style=\"text-align: right;\">\n",
       "      <th></th>\n",
       "      <th>hotel</th>\n",
       "      <th>is_canceled</th>\n",
       "      <th>lead_time</th>\n",
       "      <th>arrival_date_year</th>\n",
       "      <th>arrival_date_month</th>\n",
       "      <th>arrival_date_week_number</th>\n",
       "      <th>arrival_date_day_of_month</th>\n",
       "      <th>stays_in_weekend_nights</th>\n",
       "      <th>stays_in_week_nights</th>\n",
       "      <th>adults</th>\n",
       "      <th>children</th>\n",
       "      <th>babies</th>\n",
       "      <th>meal</th>\n",
       "      <th>country</th>\n",
       "      <th>market_segment</th>\n",
       "      <th>distribution_channel</th>\n",
       "      <th>is_repeated_guest</th>\n",
       "      <th>previous_cancellations</th>\n",
       "      <th>previous_bookings_not_canceled</th>\n",
       "      <th>reserved_room_type</th>\n",
       "      <th>assigned_room_type</th>\n",
       "      <th>booking_changes</th>\n",
       "      <th>deposit_type</th>\n",
       "      <th>agent</th>\n",
       "      <th>company</th>\n",
       "      <th>days_in_waiting_list</th>\n",
       "      <th>customer_type</th>\n",
       "      <th>adr</th>\n",
       "      <th>required_car_parking_spaces</th>\n",
       "      <th>total_of_special_requests</th>\n",
       "      <th>reservation_status</th>\n",
       "      <th>reservation_status_date</th>\n",
       "    </tr>\n",
       "  </thead>\n",
       "  <tbody>\n",
       "    <tr>\n",
       "      <th>0</th>\n",
       "      <td>Resort Hotel</td>\n",
       "      <td>0</td>\n",
       "      <td>342</td>\n",
       "      <td>2015</td>\n",
       "      <td>July</td>\n",
       "      <td>27</td>\n",
       "      <td>1</td>\n",
       "      <td>0</td>\n",
       "      <td>0</td>\n",
       "      <td>2</td>\n",
       "      <td>0.0</td>\n",
       "      <td>0</td>\n",
       "      <td>BB</td>\n",
       "      <td>PRT</td>\n",
       "      <td>Direct</td>\n",
       "      <td>Direct</td>\n",
       "      <td>0</td>\n",
       "      <td>0</td>\n",
       "      <td>0</td>\n",
       "      <td>C</td>\n",
       "      <td>C</td>\n",
       "      <td>3</td>\n",
       "      <td>No Deposit</td>\n",
       "      <td>NaN</td>\n",
       "      <td>NaN</td>\n",
       "      <td>0</td>\n",
       "      <td>Transient</td>\n",
       "      <td>0.0</td>\n",
       "      <td>0</td>\n",
       "      <td>0</td>\n",
       "      <td>Check-Out</td>\n",
       "      <td>2015-07-01</td>\n",
       "    </tr>\n",
       "    <tr>\n",
       "      <th>1</th>\n",
       "      <td>Resort Hotel</td>\n",
       "      <td>0</td>\n",
       "      <td>737</td>\n",
       "      <td>2015</td>\n",
       "      <td>July</td>\n",
       "      <td>27</td>\n",
       "      <td>1</td>\n",
       "      <td>0</td>\n",
       "      <td>0</td>\n",
       "      <td>2</td>\n",
       "      <td>0.0</td>\n",
       "      <td>0</td>\n",
       "      <td>BB</td>\n",
       "      <td>PRT</td>\n",
       "      <td>Direct</td>\n",
       "      <td>Direct</td>\n",
       "      <td>0</td>\n",
       "      <td>0</td>\n",
       "      <td>0</td>\n",
       "      <td>C</td>\n",
       "      <td>C</td>\n",
       "      <td>4</td>\n",
       "      <td>No Deposit</td>\n",
       "      <td>NaN</td>\n",
       "      <td>NaN</td>\n",
       "      <td>0</td>\n",
       "      <td>Transient</td>\n",
       "      <td>0.0</td>\n",
       "      <td>0</td>\n",
       "      <td>0</td>\n",
       "      <td>Check-Out</td>\n",
       "      <td>2015-07-01</td>\n",
       "    </tr>\n",
       "    <tr>\n",
       "      <th>2</th>\n",
       "      <td>Resort Hotel</td>\n",
       "      <td>0</td>\n",
       "      <td>7</td>\n",
       "      <td>2015</td>\n",
       "      <td>July</td>\n",
       "      <td>27</td>\n",
       "      <td>1</td>\n",
       "      <td>0</td>\n",
       "      <td>1</td>\n",
       "      <td>1</td>\n",
       "      <td>0.0</td>\n",
       "      <td>0</td>\n",
       "      <td>BB</td>\n",
       "      <td>GBR</td>\n",
       "      <td>Direct</td>\n",
       "      <td>Direct</td>\n",
       "      <td>0</td>\n",
       "      <td>0</td>\n",
       "      <td>0</td>\n",
       "      <td>A</td>\n",
       "      <td>C</td>\n",
       "      <td>0</td>\n",
       "      <td>No Deposit</td>\n",
       "      <td>NaN</td>\n",
       "      <td>NaN</td>\n",
       "      <td>0</td>\n",
       "      <td>Transient</td>\n",
       "      <td>75.0</td>\n",
       "      <td>0</td>\n",
       "      <td>0</td>\n",
       "      <td>Check-Out</td>\n",
       "      <td>2015-07-02</td>\n",
       "    </tr>\n",
       "    <tr>\n",
       "      <th>3</th>\n",
       "      <td>Resort Hotel</td>\n",
       "      <td>0</td>\n",
       "      <td>13</td>\n",
       "      <td>2015</td>\n",
       "      <td>July</td>\n",
       "      <td>27</td>\n",
       "      <td>1</td>\n",
       "      <td>0</td>\n",
       "      <td>1</td>\n",
       "      <td>1</td>\n",
       "      <td>0.0</td>\n",
       "      <td>0</td>\n",
       "      <td>BB</td>\n",
       "      <td>GBR</td>\n",
       "      <td>Corporate</td>\n",
       "      <td>Corporate</td>\n",
       "      <td>0</td>\n",
       "      <td>0</td>\n",
       "      <td>0</td>\n",
       "      <td>A</td>\n",
       "      <td>A</td>\n",
       "      <td>0</td>\n",
       "      <td>No Deposit</td>\n",
       "      <td>304.0</td>\n",
       "      <td>NaN</td>\n",
       "      <td>0</td>\n",
       "      <td>Transient</td>\n",
       "      <td>75.0</td>\n",
       "      <td>0</td>\n",
       "      <td>0</td>\n",
       "      <td>Check-Out</td>\n",
       "      <td>2015-07-02</td>\n",
       "    </tr>\n",
       "    <tr>\n",
       "      <th>4</th>\n",
       "      <td>Resort Hotel</td>\n",
       "      <td>0</td>\n",
       "      <td>14</td>\n",
       "      <td>2015</td>\n",
       "      <td>July</td>\n",
       "      <td>27</td>\n",
       "      <td>1</td>\n",
       "      <td>0</td>\n",
       "      <td>2</td>\n",
       "      <td>2</td>\n",
       "      <td>0.0</td>\n",
       "      <td>0</td>\n",
       "      <td>BB</td>\n",
       "      <td>GBR</td>\n",
       "      <td>Online TA</td>\n",
       "      <td>TA/TO</td>\n",
       "      <td>0</td>\n",
       "      <td>0</td>\n",
       "      <td>0</td>\n",
       "      <td>A</td>\n",
       "      <td>A</td>\n",
       "      <td>0</td>\n",
       "      <td>No Deposit</td>\n",
       "      <td>240.0</td>\n",
       "      <td>NaN</td>\n",
       "      <td>0</td>\n",
       "      <td>Transient</td>\n",
       "      <td>98.0</td>\n",
       "      <td>0</td>\n",
       "      <td>1</td>\n",
       "      <td>Check-Out</td>\n",
       "      <td>2015-07-03</td>\n",
       "    </tr>\n",
       "  </tbody>\n",
       "</table>\n",
       "</div>"
      ],
      "text/plain": [
       "          hotel  is_canceled  lead_time  arrival_date_year arrival_date_month  \\\n",
       "0  Resort Hotel            0        342               2015               July   \n",
       "1  Resort Hotel            0        737               2015               July   \n",
       "2  Resort Hotel            0          7               2015               July   \n",
       "3  Resort Hotel            0         13               2015               July   \n",
       "4  Resort Hotel            0         14               2015               July   \n",
       "\n",
       "   arrival_date_week_number  arrival_date_day_of_month  \\\n",
       "0                        27                          1   \n",
       "1                        27                          1   \n",
       "2                        27                          1   \n",
       "3                        27                          1   \n",
       "4                        27                          1   \n",
       "\n",
       "   stays_in_weekend_nights  stays_in_week_nights  adults  children  babies  \\\n",
       "0                        0                     0       2       0.0       0   \n",
       "1                        0                     0       2       0.0       0   \n",
       "2                        0                     1       1       0.0       0   \n",
       "3                        0                     1       1       0.0       0   \n",
       "4                        0                     2       2       0.0       0   \n",
       "\n",
       "  meal country market_segment distribution_channel  is_repeated_guest  \\\n",
       "0   BB     PRT         Direct               Direct                  0   \n",
       "1   BB     PRT         Direct               Direct                  0   \n",
       "2   BB     GBR         Direct               Direct                  0   \n",
       "3   BB     GBR      Corporate            Corporate                  0   \n",
       "4   BB     GBR      Online TA                TA/TO                  0   \n",
       "\n",
       "   previous_cancellations  previous_bookings_not_canceled reserved_room_type  \\\n",
       "0                       0                               0                  C   \n",
       "1                       0                               0                  C   \n",
       "2                       0                               0                  A   \n",
       "3                       0                               0                  A   \n",
       "4                       0                               0                  A   \n",
       "\n",
       "  assigned_room_type  booking_changes deposit_type  agent  company  \\\n",
       "0                  C                3   No Deposit    NaN      NaN   \n",
       "1                  C                4   No Deposit    NaN      NaN   \n",
       "2                  C                0   No Deposit    NaN      NaN   \n",
       "3                  A                0   No Deposit  304.0      NaN   \n",
       "4                  A                0   No Deposit  240.0      NaN   \n",
       "\n",
       "   days_in_waiting_list customer_type   adr  required_car_parking_spaces  \\\n",
       "0                     0     Transient   0.0                            0   \n",
       "1                     0     Transient   0.0                            0   \n",
       "2                     0     Transient  75.0                            0   \n",
       "3                     0     Transient  75.0                            0   \n",
       "4                     0     Transient  98.0                            0   \n",
       "\n",
       "   total_of_special_requests reservation_status reservation_status_date  \n",
       "0                          0          Check-Out              2015-07-01  \n",
       "1                          0          Check-Out              2015-07-01  \n",
       "2                          0          Check-Out              2015-07-02  \n",
       "3                          0          Check-Out              2015-07-02  \n",
       "4                          1          Check-Out              2015-07-03  "
      ]
     },
     "execution_count": 2,
     "metadata": {},
     "output_type": "execute_result"
    }
   ],
   "source": [
    "df = pd.read_csv('hotel_bookings.csv')\n",
    "\n",
    "df.head(5)"
   ]
  },
  {
   "cell_type": "code",
   "execution_count": 3,
   "id": "fa959ba3",
   "metadata": {
    "colab": {
     "base_uri": "https://localhost:8080/"
    },
    "executionInfo": {
     "elapsed": 13,
     "status": "ok",
     "timestamp": 1680581732097,
     "user": {
      "displayName": "Adhitya Izki Saputra",
      "userId": "15175889346381788584"
     },
     "user_tz": -420
    },
    "id": "fa959ba3",
    "outputId": "05a51bdc-b8d4-4c39-def8-3e30582654b0"
   },
   "outputs": [
    {
     "name": "stdout",
     "output_type": "stream",
     "text": [
      "Index(['hotel', 'is_canceled', 'lead_time', 'arrival_date_year',\n",
      "       'arrival_date_month', 'arrival_date_week_number',\n",
      "       'arrival_date_day_of_month', 'stays_in_weekend_nights',\n",
      "       'stays_in_week_nights', 'adults', 'children', 'babies', 'meal',\n",
      "       'country', 'market_segment', 'distribution_channel',\n",
      "       'is_repeated_guest', 'previous_cancellations',\n",
      "       'previous_bookings_not_canceled', 'reserved_room_type',\n",
      "       'assigned_room_type', 'booking_changes', 'deposit_type', 'agent',\n",
      "       'company', 'days_in_waiting_list', 'customer_type', 'adr',\n",
      "       'required_car_parking_spaces', 'total_of_special_requests',\n",
      "       'reservation_status', 'reservation_status_date'],\n",
      "      dtype='object')\n"
     ]
    }
   ],
   "source": [
    "print(df.columns)"
   ]
  },
  {
   "cell_type": "markdown",
   "id": "dc36c25a",
   "metadata": {
    "id": "dc36c25a"
   },
   "source": [
    "# Analysis"
   ]
  },
  {
   "cell_type": "markdown",
   "id": "d3ac9afa",
   "metadata": {
    "id": "d3ac9afa"
   },
   "source": [
    "## 1. Apakah terdapat pengaruh besar pada deposit_type dengan pembatalan hotel?\n",
    "- H0 : Tidak terdapat pengaruh besar anatara deposit_type dengan pembatalan hotel\n",
    "- H1 : Terdapat pengaruh besar antara deposit_type dengan pembatalan hotel"
   ]
  },
  {
   "cell_type": "code",
   "execution_count": 8,
   "id": "A3sVKbACVqcp",
   "metadata": {
    "colab": {
     "base_uri": "https://localhost:8080/"
    },
    "executionInfo": {
     "elapsed": 392,
     "status": "ok",
     "timestamp": 1680588231568,
     "user": {
      "displayName": "Adhitya Izki Saputra",
      "userId": "15175889346381788584"
     },
     "user_tz": -420
    },
    "id": "A3sVKbACVqcp",
    "outputId": "190f17a7-22bf-4b16-8039-7001442e3633"
   },
   "outputs": [
    {
     "name": "stdout",
     "output_type": "stream",
     "text": [
      "p-value :  0.0\n"
     ]
    }
   ],
   "source": [
    "# process data\n",
    "data = df[['is_canceled', 'deposit_type']]\n",
    "cross_tab = pd.crosstab(data['is_canceled'], data['deposit_type'])\n",
    "\n",
    "# uji chi-square\n",
    "stat, p_value, dof, expected = chi2_contingency(cross_tab)\n",
    "print('p-value : ', p_value)"
   ]
  },
  {
   "cell_type": "markdown",
   "id": "cefd17bf",
   "metadata": {
    "id": "cefd17bf"
   },
   "source": [
    "Nilai p-value kurang dari 0.05 sehingga H0 ditolak. Menunjukkan terdapat korelasi atau pengaruh besar antara deposit_type dengan pembatalan pemesanan hotel, sehingga deposit_type bisa dijadikan parameter untuk menghindari pembatalan hotel."
   ]
  },
  {
   "cell_type": "markdown",
   "id": "d4b92760",
   "metadata": {},
   "source": [
    "## 2. Apakah terdapat perbedaan siginifikan antara rerata ADR untuk pemesanan yang dibatalkan dan tidak?\n",
    "  - H0 : Tidak terdapat perbedaan signifikan antara rata-rata ADR antara reservasi yang dibatalkan dan tidak dibatalkan\n",
    "  - H1 : Terdapat perbedaan signifikan dalam rata-rata ADR antara reservasi yang dibatalkan dan tidak dibatalkan"
   ]
  },
  {
   "cell_type": "code",
   "execution_count": 5,
   "id": "55cf271d",
   "metadata": {},
   "outputs": [
    {
     "name": "stdout",
     "output_type": "stream",
     "text": [
      "p-value :  5.4196022607713324e-36\n"
     ]
    }
   ],
   "source": [
    "data = df[(df['adr']<5000) & (df['adr']>0)]\n",
    "\n",
    "# separate adr data for canceled and not canceled bookings\n",
    "adr_canceled = data.loc[data['is_canceled'] == 1, 'adr']\n",
    "adr_not_canceled = data.loc[data['is_canceled'] == 0, 'adr']\n",
    "\n",
    "# not normal dist using mannwhitneyu\n",
    "stat, p_value = mannwhitneyu(adr_canceled, adr_not_canceled)\n",
    "print('p-value : ', p_value)"
   ]
  },
  {
   "cell_type": "markdown",
   "id": "7dec80d6",
   "metadata": {},
   "source": [
    "Nilai p-value kurang dari 0.05 sehingga H0 ditolak. Menunjukkan terdapat perbedaan signifikan antara rata-rata ADR antara reservasi yang dibatalkan dan tidak dibatalkan."
   ]
  },
  {
   "cell_type": "markdown",
   "id": "19efd2e3",
   "metadata": {
    "id": "19efd2e3"
   },
   "source": [
    "## 3. Apakah varians adr city hotel dengan resort hotel sama?\n",
    "  - H0 : Varians adr city hotel dengan resort hotel berbeda\n",
    "  - H1 : Varians adr city hotel dengan resort hotel sama"
   ]
  },
  {
   "cell_type": "code",
   "execution_count": 6,
   "id": "d7ff1ce1",
   "metadata": {
    "colab": {
     "base_uri": "https://localhost:8080/"
    },
    "executionInfo": {
     "elapsed": 376,
     "status": "ok",
     "timestamp": 1680587846781,
     "user": {
      "displayName": "Adhitya Izki Saputra",
      "userId": "15175889346381788584"
     },
     "user_tz": -420
    },
    "id": "d7ff1ce1",
    "outputId": "85eb50ce-47e5-49f4-ba42-e1b35a04c863"
   },
   "outputs": [
    {
     "name": "stdout",
     "output_type": "stream",
     "text": [
      "F value :  0.5036110208183524\n",
      "F critical value :  0.9999999999999999\n"
     ]
    }
   ],
   "source": [
    "# filter hanya city hotel dan resort hotel\n",
    "city_hotel = df[df['hotel'] == 'City Hotel']['adr']\n",
    "resort_hotel = df[df['hotel'] == 'Resort Hotel']['adr']\n",
    "\n",
    "# uji f\n",
    "F = city_hotel.var() / resort_hotel.var()\n",
    "DF1 = len(city_hotel) - 1\n",
    "DF2 = len(resort_hotel) - 1\n",
    "critical_value = f.sf(F, DF1, DF2)\n",
    "\n",
    "print('F value : ', F)\n",
    "print('F critical value : ', critical_value)"
   ]
  },
  {
   "cell_type": "markdown",
   "id": "eb47ce67",
   "metadata": {
    "id": "eb47ce67"
   },
   "source": [
    "Nilai F-kritis lebih besar dibandingkan dengan rasio varians atau nilai F. segingga menolak H0 dan menerima H1 yang dapat dismpulkan jika varians adr pada city hotel sama dengan varians pada resort hotel."
   ]
  },
  {
   "cell_type": "markdown",
   "id": "2bGYDKRk9ECX",
   "metadata": {
    "id": "2bGYDKRk9ECX"
   },
   "source": [
    "## 4. Apakah terdapat perbedaan signifikan dalam proporsi pembatalan antara pemesanan melalui distribusi agensi atau organizer dengan yang langsung (GDS, direct, corporate)?\n",
    "- H0 : Tidak terdapat perbedaan signifikan dalam proporsi pembatalan antara agensi dan organizer dengan lainnya\n",
    "- H1 : Terdapat perbedaan signifikan dalam proporsi pembatalan antara agensi dan organizer dengan lainnya"
   ]
  },
  {
   "cell_type": "code",
   "execution_count": 7,
   "id": "45f6ae4d",
   "metadata": {
    "colab": {
     "base_uri": "https://localhost:8080/"
    },
    "executionInfo": {
     "elapsed": 1072,
     "status": "ok",
     "timestamp": 1680590042442,
     "user": {
      "displayName": "Adhitya Izki Saputra",
      "userId": "15175889346381788584"
     },
     "user_tz": -420
    },
    "id": "45f6ae4d",
    "outputId": "80cd9112-7ff5-45df-cefa-fb33ea88c2b1"
   },
   "outputs": [
    {
     "name": "stdout",
     "output_type": "stream",
     "text": [
      "p-value :  0.0\n"
     ]
    }
   ],
   "source": [
    "# define data\n",
    "ta_to = df[df['distribution_channel'] == 'TA/TO']\n",
    "other = df[df['distribution_channel'].isin(['Corporate', 'Direct', 'GDS'])]\n",
    "\n",
    "# cancel each data\n",
    "n_ta_to_cancel = ta_to['is_canceled'].sum()\n",
    "n_other_cancel = other['is_canceled'].sum()\n",
    "\n",
    "# count data\n",
    "n_ta_to = len(ta_to)\n",
    "n_other = len(other)\n",
    "\n",
    "# proprotion cancel\n",
    "p_ta_to = n_ta_to_cancel / n_ta_to\n",
    "p_other = n_other_cancel / n_other\n",
    "\n",
    "# diff proportion\n",
    "p_diff = p_ta_to - p_other\n",
    "\n",
    "# hypothesting test\n",
    "z_score, p_value = proportions_ztest([n_ta_to_cancel, n_other_cancel], [n_ta_to, n_other])\n",
    "\n",
    "print('p-value : ', p_value)"
   ]
  },
  {
   "cell_type": "markdown",
   "id": "q1kU8UR0-dqh",
   "metadata": {
    "id": "q1kU8UR0-dqh"
   },
   "source": [
    "Nilai p-value kurang dari 0.05 sehingga H0 ditolak. Menunjukkan terdapat perbedaan signifikan proporsi pembatalan pada pemesanan melalui agensi atau organizer dibandingkan dengan non agensi dan non organizer. Hal ini dapat menjadi pertimbangan pada pihak hotel untuk menekan proporsi pembatalan pada distribusi agensi dan organizer seperti dengan memberikan diskon dan yang lainnya."
   ]
  },
  {
   "cell_type": "code",
   "execution_count": null,
   "id": "e69c8789",
   "metadata": {},
   "outputs": [],
   "source": []
  }
 ],
 "metadata": {
  "colab": {
   "provenance": []
  },
  "kernelspec": {
   "display_name": "Python 3 (ipykernel)",
   "language": "python",
   "name": "python3"
  },
  "language_info": {
   "codemirror_mode": {
    "name": "ipython",
    "version": 3
   },
   "file_extension": ".py",
   "mimetype": "text/x-python",
   "name": "python",
   "nbconvert_exporter": "python",
   "pygments_lexer": "ipython3",
   "version": "3.9.7"
  }
 },
 "nbformat": 4,
 "nbformat_minor": 5
}
