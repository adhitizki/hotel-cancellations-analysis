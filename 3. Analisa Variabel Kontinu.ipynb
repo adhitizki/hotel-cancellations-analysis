{
 "cells": [
  {
   "cell_type": "markdown",
   "id": "09ab58cc",
   "metadata": {
    "id": "09ab58cc"
   },
   "source": [
    "# Question"
   ]
  },
  {
   "cell_type": "markdown",
   "id": "881b6c59",
   "metadata": {
    "id": "881b6c59"
   },
   "source": [
    "## 3 - Analisa Variabel Kontinu\n",
    "\n",
    "1. Mana yang lebih mungkin:\n",
    "    - Pemesanan yang dibatalkan memiliki ADR lebih dari 101,83\n",
    "    - Pemesanan yang dibatalkan memiliki ADR lebih rendah dari 101,83\n",
    "\n",
    "2. Mana yang lebih mungkin:\n",
    "    - Pemesanan oleh keluarga (asumsi minimal 2 orang) memiliki lead time diatas 104 hari memesan dengan ADR diatas 101,83.\n",
    "    - Pemesanan oleh keluarga (asumsi minimal 2 orang) memiliki lead time dibawah 104 hari memesan dengan ADR diatas 101,83."
   ]
  },
  {
   "cell_type": "markdown",
   "id": "1dfde3ac",
   "metadata": {
    "id": "1dfde3ac"
   },
   "source": [
    "# Import Libraries"
   ]
  },
  {
   "cell_type": "code",
   "execution_count": 1,
   "id": "e504f831",
   "metadata": {
    "executionInfo": {
     "elapsed": 3232,
     "status": "ok",
     "timestamp": 1680511799924,
     "user": {
      "displayName": "Adhitya Izki Saputra",
      "userId": "15175889346381788584"
     },
     "user_tz": -420
    },
    "id": "e504f831"
   },
   "outputs": [],
   "source": [
    "import numpy as np\n",
    "import pandas as pd\n",
    "import matplotlib.pyplot as plt\n",
    "import seaborn as sns\n",
    "\n",
    "import warnings\n",
    "warnings.filterwarnings(\"ignore\")\n",
    "pd.set_option('display.max_columns', None)\n",
    "pd.set_option('display.max_rows', None)\n",
    "sns.set_style(\"darkgrid\")"
   ]
  },
  {
   "cell_type": "markdown",
   "id": "5d7c7975",
   "metadata": {
    "id": "5d7c7975"
   },
   "source": [
    "# Import Dataset"
   ]
  },
  {
   "cell_type": "code",
   "execution_count": 2,
   "id": "4cabd995",
   "metadata": {
    "colab": {
     "base_uri": "https://localhost:8080/",
     "height": 357
    },
    "executionInfo": {
     "elapsed": 1673,
     "status": "ok",
     "timestamp": 1680512041793,
     "user": {
      "displayName": "Adhitya Izki Saputra",
      "userId": "15175889346381788584"
     },
     "user_tz": -420
    },
    "id": "4cabd995",
    "outputId": "07849c92-fc3b-410a-ea52-1fb4225f9bb5"
   },
   "outputs": [
    {
     "data": {
      "text/html": [
       "<div>\n",
       "<style scoped>\n",
       "    .dataframe tbody tr th:only-of-type {\n",
       "        vertical-align: middle;\n",
       "    }\n",
       "\n",
       "    .dataframe tbody tr th {\n",
       "        vertical-align: top;\n",
       "    }\n",
       "\n",
       "    .dataframe thead th {\n",
       "        text-align: right;\n",
       "    }\n",
       "</style>\n",
       "<table border=\"1\" class=\"dataframe\">\n",
       "  <thead>\n",
       "    <tr style=\"text-align: right;\">\n",
       "      <th></th>\n",
       "      <th>hotel</th>\n",
       "      <th>is_canceled</th>\n",
       "      <th>lead_time</th>\n",
       "      <th>arrival_date_year</th>\n",
       "      <th>arrival_date_month</th>\n",
       "      <th>arrival_date_week_number</th>\n",
       "      <th>arrival_date_day_of_month</th>\n",
       "      <th>stays_in_weekend_nights</th>\n",
       "      <th>stays_in_week_nights</th>\n",
       "      <th>adults</th>\n",
       "      <th>children</th>\n",
       "      <th>babies</th>\n",
       "      <th>meal</th>\n",
       "      <th>country</th>\n",
       "      <th>market_segment</th>\n",
       "      <th>distribution_channel</th>\n",
       "      <th>is_repeated_guest</th>\n",
       "      <th>previous_cancellations</th>\n",
       "      <th>previous_bookings_not_canceled</th>\n",
       "      <th>reserved_room_type</th>\n",
       "      <th>assigned_room_type</th>\n",
       "      <th>booking_changes</th>\n",
       "      <th>deposit_type</th>\n",
       "      <th>agent</th>\n",
       "      <th>company</th>\n",
       "      <th>days_in_waiting_list</th>\n",
       "      <th>customer_type</th>\n",
       "      <th>adr</th>\n",
       "      <th>required_car_parking_spaces</th>\n",
       "      <th>total_of_special_requests</th>\n",
       "      <th>reservation_status</th>\n",
       "      <th>reservation_status_date</th>\n",
       "    </tr>\n",
       "  </thead>\n",
       "  <tbody>\n",
       "    <tr>\n",
       "      <th>0</th>\n",
       "      <td>Resort Hotel</td>\n",
       "      <td>0</td>\n",
       "      <td>342</td>\n",
       "      <td>2015</td>\n",
       "      <td>July</td>\n",
       "      <td>27</td>\n",
       "      <td>1</td>\n",
       "      <td>0</td>\n",
       "      <td>0</td>\n",
       "      <td>2</td>\n",
       "      <td>0.0</td>\n",
       "      <td>0</td>\n",
       "      <td>BB</td>\n",
       "      <td>PRT</td>\n",
       "      <td>Direct</td>\n",
       "      <td>Direct</td>\n",
       "      <td>0</td>\n",
       "      <td>0</td>\n",
       "      <td>0</td>\n",
       "      <td>C</td>\n",
       "      <td>C</td>\n",
       "      <td>3</td>\n",
       "      <td>No Deposit</td>\n",
       "      <td>NaN</td>\n",
       "      <td>NaN</td>\n",
       "      <td>0</td>\n",
       "      <td>Transient</td>\n",
       "      <td>0.0</td>\n",
       "      <td>0</td>\n",
       "      <td>0</td>\n",
       "      <td>Check-Out</td>\n",
       "      <td>2015-07-01</td>\n",
       "    </tr>\n",
       "    <tr>\n",
       "      <th>1</th>\n",
       "      <td>Resort Hotel</td>\n",
       "      <td>0</td>\n",
       "      <td>737</td>\n",
       "      <td>2015</td>\n",
       "      <td>July</td>\n",
       "      <td>27</td>\n",
       "      <td>1</td>\n",
       "      <td>0</td>\n",
       "      <td>0</td>\n",
       "      <td>2</td>\n",
       "      <td>0.0</td>\n",
       "      <td>0</td>\n",
       "      <td>BB</td>\n",
       "      <td>PRT</td>\n",
       "      <td>Direct</td>\n",
       "      <td>Direct</td>\n",
       "      <td>0</td>\n",
       "      <td>0</td>\n",
       "      <td>0</td>\n",
       "      <td>C</td>\n",
       "      <td>C</td>\n",
       "      <td>4</td>\n",
       "      <td>No Deposit</td>\n",
       "      <td>NaN</td>\n",
       "      <td>NaN</td>\n",
       "      <td>0</td>\n",
       "      <td>Transient</td>\n",
       "      <td>0.0</td>\n",
       "      <td>0</td>\n",
       "      <td>0</td>\n",
       "      <td>Check-Out</td>\n",
       "      <td>2015-07-01</td>\n",
       "    </tr>\n",
       "    <tr>\n",
       "      <th>2</th>\n",
       "      <td>Resort Hotel</td>\n",
       "      <td>0</td>\n",
       "      <td>7</td>\n",
       "      <td>2015</td>\n",
       "      <td>July</td>\n",
       "      <td>27</td>\n",
       "      <td>1</td>\n",
       "      <td>0</td>\n",
       "      <td>1</td>\n",
       "      <td>1</td>\n",
       "      <td>0.0</td>\n",
       "      <td>0</td>\n",
       "      <td>BB</td>\n",
       "      <td>GBR</td>\n",
       "      <td>Direct</td>\n",
       "      <td>Direct</td>\n",
       "      <td>0</td>\n",
       "      <td>0</td>\n",
       "      <td>0</td>\n",
       "      <td>A</td>\n",
       "      <td>C</td>\n",
       "      <td>0</td>\n",
       "      <td>No Deposit</td>\n",
       "      <td>NaN</td>\n",
       "      <td>NaN</td>\n",
       "      <td>0</td>\n",
       "      <td>Transient</td>\n",
       "      <td>75.0</td>\n",
       "      <td>0</td>\n",
       "      <td>0</td>\n",
       "      <td>Check-Out</td>\n",
       "      <td>2015-07-02</td>\n",
       "    </tr>\n",
       "    <tr>\n",
       "      <th>3</th>\n",
       "      <td>Resort Hotel</td>\n",
       "      <td>0</td>\n",
       "      <td>13</td>\n",
       "      <td>2015</td>\n",
       "      <td>July</td>\n",
       "      <td>27</td>\n",
       "      <td>1</td>\n",
       "      <td>0</td>\n",
       "      <td>1</td>\n",
       "      <td>1</td>\n",
       "      <td>0.0</td>\n",
       "      <td>0</td>\n",
       "      <td>BB</td>\n",
       "      <td>GBR</td>\n",
       "      <td>Corporate</td>\n",
       "      <td>Corporate</td>\n",
       "      <td>0</td>\n",
       "      <td>0</td>\n",
       "      <td>0</td>\n",
       "      <td>A</td>\n",
       "      <td>A</td>\n",
       "      <td>0</td>\n",
       "      <td>No Deposit</td>\n",
       "      <td>304.0</td>\n",
       "      <td>NaN</td>\n",
       "      <td>0</td>\n",
       "      <td>Transient</td>\n",
       "      <td>75.0</td>\n",
       "      <td>0</td>\n",
       "      <td>0</td>\n",
       "      <td>Check-Out</td>\n",
       "      <td>2015-07-02</td>\n",
       "    </tr>\n",
       "    <tr>\n",
       "      <th>4</th>\n",
       "      <td>Resort Hotel</td>\n",
       "      <td>0</td>\n",
       "      <td>14</td>\n",
       "      <td>2015</td>\n",
       "      <td>July</td>\n",
       "      <td>27</td>\n",
       "      <td>1</td>\n",
       "      <td>0</td>\n",
       "      <td>2</td>\n",
       "      <td>2</td>\n",
       "      <td>0.0</td>\n",
       "      <td>0</td>\n",
       "      <td>BB</td>\n",
       "      <td>GBR</td>\n",
       "      <td>Online TA</td>\n",
       "      <td>TA/TO</td>\n",
       "      <td>0</td>\n",
       "      <td>0</td>\n",
       "      <td>0</td>\n",
       "      <td>A</td>\n",
       "      <td>A</td>\n",
       "      <td>0</td>\n",
       "      <td>No Deposit</td>\n",
       "      <td>240.0</td>\n",
       "      <td>NaN</td>\n",
       "      <td>0</td>\n",
       "      <td>Transient</td>\n",
       "      <td>98.0</td>\n",
       "      <td>0</td>\n",
       "      <td>1</td>\n",
       "      <td>Check-Out</td>\n",
       "      <td>2015-07-03</td>\n",
       "    </tr>\n",
       "  </tbody>\n",
       "</table>\n",
       "</div>"
      ],
      "text/plain": [
       "          hotel  is_canceled  lead_time  arrival_date_year arrival_date_month  \\\n",
       "0  Resort Hotel            0        342               2015               July   \n",
       "1  Resort Hotel            0        737               2015               July   \n",
       "2  Resort Hotel            0          7               2015               July   \n",
       "3  Resort Hotel            0         13               2015               July   \n",
       "4  Resort Hotel            0         14               2015               July   \n",
       "\n",
       "   arrival_date_week_number  arrival_date_day_of_month  \\\n",
       "0                        27                          1   \n",
       "1                        27                          1   \n",
       "2                        27                          1   \n",
       "3                        27                          1   \n",
       "4                        27                          1   \n",
       "\n",
       "   stays_in_weekend_nights  stays_in_week_nights  adults  children  babies  \\\n",
       "0                        0                     0       2       0.0       0   \n",
       "1                        0                     0       2       0.0       0   \n",
       "2                        0                     1       1       0.0       0   \n",
       "3                        0                     1       1       0.0       0   \n",
       "4                        0                     2       2       0.0       0   \n",
       "\n",
       "  meal country market_segment distribution_channel  is_repeated_guest  \\\n",
       "0   BB     PRT         Direct               Direct                  0   \n",
       "1   BB     PRT         Direct               Direct                  0   \n",
       "2   BB     GBR         Direct               Direct                  0   \n",
       "3   BB     GBR      Corporate            Corporate                  0   \n",
       "4   BB     GBR      Online TA                TA/TO                  0   \n",
       "\n",
       "   previous_cancellations  previous_bookings_not_canceled reserved_room_type  \\\n",
       "0                       0                               0                  C   \n",
       "1                       0                               0                  C   \n",
       "2                       0                               0                  A   \n",
       "3                       0                               0                  A   \n",
       "4                       0                               0                  A   \n",
       "\n",
       "  assigned_room_type  booking_changes deposit_type  agent  company  \\\n",
       "0                  C                3   No Deposit    NaN      NaN   \n",
       "1                  C                4   No Deposit    NaN      NaN   \n",
       "2                  C                0   No Deposit    NaN      NaN   \n",
       "3                  A                0   No Deposit  304.0      NaN   \n",
       "4                  A                0   No Deposit  240.0      NaN   \n",
       "\n",
       "   days_in_waiting_list customer_type   adr  required_car_parking_spaces  \\\n",
       "0                     0     Transient   0.0                            0   \n",
       "1                     0     Transient   0.0                            0   \n",
       "2                     0     Transient  75.0                            0   \n",
       "3                     0     Transient  75.0                            0   \n",
       "4                     0     Transient  98.0                            0   \n",
       "\n",
       "   total_of_special_requests reservation_status reservation_status_date  \n",
       "0                          0          Check-Out              2015-07-01  \n",
       "1                          0          Check-Out              2015-07-01  \n",
       "2                          0          Check-Out              2015-07-02  \n",
       "3                          0          Check-Out              2015-07-02  \n",
       "4                          1          Check-Out              2015-07-03  "
      ]
     },
     "execution_count": 2,
     "metadata": {},
     "output_type": "execute_result"
    }
   ],
   "source": [
    "df = pd.read_csv('hotel_bookings.csv')\n",
    "\n",
    "df.head(5)"
   ]
  },
  {
   "cell_type": "code",
   "execution_count": 3,
   "id": "fa959ba3",
   "metadata": {
    "colab": {
     "base_uri": "https://localhost:8080/"
    },
    "executionInfo": {
     "elapsed": 514,
     "status": "ok",
     "timestamp": 1680512046625,
     "user": {
      "displayName": "Adhitya Izki Saputra",
      "userId": "15175889346381788584"
     },
     "user_tz": -420
    },
    "id": "fa959ba3",
    "outputId": "8ab38c1b-12af-422d-bf33-eeb86a5c9dbc"
   },
   "outputs": [
    {
     "name": "stdout",
     "output_type": "stream",
     "text": [
      "Index(['hotel', 'is_canceled', 'lead_time', 'arrival_date_year',\n",
      "       'arrival_date_month', 'arrival_date_week_number',\n",
      "       'arrival_date_day_of_month', 'stays_in_weekend_nights',\n",
      "       'stays_in_week_nights', 'adults', 'children', 'babies', 'meal',\n",
      "       'country', 'market_segment', 'distribution_channel',\n",
      "       'is_repeated_guest', 'previous_cancellations',\n",
      "       'previous_bookings_not_canceled', 'reserved_room_type',\n",
      "       'assigned_room_type', 'booking_changes', 'deposit_type', 'agent',\n",
      "       'company', 'days_in_waiting_list', 'customer_type', 'adr',\n",
      "       'required_car_parking_spaces', 'total_of_special_requests',\n",
      "       'reservation_status', 'reservation_status_date'],\n",
      "      dtype='object')\n"
     ]
    }
   ],
   "source": [
    "print(df.columns)"
   ]
  },
  {
   "cell_type": "markdown",
   "id": "dc36c25a",
   "metadata": {
    "id": "dc36c25a"
   },
   "source": [
    "# Analysis"
   ]
  },
  {
   "cell_type": "markdown",
   "id": "d3ac9afa",
   "metadata": {
    "id": "d3ac9afa"
   },
   "source": [
    "## 1. Mana yang lebih mungkin:\n",
    "  - Pemesanan yang dibatalkan memiliki ADR lebih dari 101,83\n",
    "  - Pemesanan yang dibatalkan memiliki ADR lebih rendah dari 101,83"
   ]
  },
  {
   "cell_type": "code",
   "execution_count": 4,
   "id": "A3sVKbACVqcp",
   "metadata": {
    "colab": {
     "base_uri": "https://localhost:8080/",
     "height": 430
    },
    "executionInfo": {
     "elapsed": 8,
     "status": "ok",
     "timestamp": 1680513319661,
     "user": {
      "displayName": "Adhitya Izki Saputra",
      "userId": "15175889346381788584"
     },
     "user_tz": -420
    },
    "id": "A3sVKbACVqcp",
    "outputId": "e97da4a1-b30a-4986-da8b-bbcf0aed4832"
   },
   "outputs": [
    {
     "data": {
      "image/png": "[encoded data removed]",
      "text/plain": [
       "<Figure size 864x360 with 1 Axes>"
      ]
     },
     "metadata": {},
     "output_type": "display_data"
    }
   ],
   "source": [
    "# filtering\n",
    "all_cancel = df[df['is_canceled'] == 1]['is_canceled'].count()\n",
    "cancel_upper = df[(df['is_canceled'] == 1) & (df['adr'] > 101.83)]['is_canceled'].count() / all_cancel\n",
    "cancel_lower = df[(df['is_canceled'] == 1) & (df['adr'] <= 101.83)]['is_canceled'].count() / all_cancel\n",
    "\n",
    "# barplot\n",
    "plt.figure(figsize=(12,5))\n",
    "sns.barplot(x=['adr > 101.83', 'adr <= 101.82'], y=[cancel_upper, cancel_lower])\n",
    "plt.show()"
   ]
  },
  {
   "cell_type": "markdown",
   "id": "cefd17bf",
   "metadata": {
    "id": "cefd17bf"
   },
   "source": [
    "Menunjukkan jika kemungkinan seseorang melakukan pembatalan pemesanan jika ADR nya kurang dari mean atau 101,82 sebesar 56,44%"
   ]
  },
  {
   "cell_type": "markdown",
   "id": "19efd2e3",
   "metadata": {
    "id": "19efd2e3"
   },
   "source": [
    "## 2. Mana yang lebih mungkin:\n",
    "\n",
    "- Pemesanan oleh keluarga (asumsi minimal 2 orang) memiliki lead time diatas 104 hari memesan dengan ADR diatas 101,83.\n",
    "- Pemesanan oleh keluarga (asumsi minimal 2 orang) memiliki lead time dibawah 104 hari memesan dengan ADR diatas 101,83."
   ]
  },
  {
   "cell_type": "code",
   "execution_count": 5,
   "id": "d7ff1ce1",
   "metadata": {
    "colab": {
     "base_uri": "https://localhost:8080/",
     "height": 431
    },
    "executionInfo": {
     "elapsed": 9,
     "status": "ok",
     "timestamp": 1680514130944,
     "user": {
      "displayName": "Adhitya Izki Saputra",
      "userId": "15175889346381788584"
     },
     "user_tz": -420
    },
    "id": "d7ff1ce1",
    "outputId": "3fc06465-c178-48ae-e6eb-803929b330a4"
   },
   "outputs": [
    {
     "data": {
      "image/png": "[encoded data removed]",
      "text/plain": [
       "<Figure size 864x360 with 1 Axes>"
      ]
     },
     "metadata": {},
     "output_type": "display_data"
    }
   ],
   "source": [
    "# filtering\n",
    "df_fam = df[(df['adults'] + df['children'] >= 2)]\n",
    "\n",
    "lead_upper = df_fam[df_fam['lead_time'] > 104]\n",
    "lead_lower = df_fam[df_fam['lead_time'] <= 104]\n",
    "\n",
    "lead_upper_adr_upper = lead_upper[lead_upper['adr']>101.83]\n",
    "lead_lower_adr_lower = lead_lower[lead_lower['adr']>101.83]\n",
    "\n",
    "p_up = lead_upper_adr_upper['is_canceled'].count() / lead_upper['is_canceled'].count()\n",
    "p_low = lead_lower_adr_lower['is_canceled'].count() / lead_lower['is_canceled'].count()\n",
    "\n",
    "# barplot\n",
    "plt.figure(figsize=(12,5))\n",
    "sns.barplot(x=['lead_time > 104; adr > 101.83', 'lead_time <= 104; adr > 101.82'], y=[p_up, p_low])\n",
    "plt.show()"
   ]
  },
  {
   "cell_type": "code",
   "execution_count": 20,
   "id": "-pbZzcpGal8u",
   "metadata": {
    "colab": {
     "base_uri": "https://localhost:8080/"
    },
    "executionInfo": {
     "elapsed": 10,
     "status": "ok",
     "timestamp": 1680514142627,
     "user": {
      "displayName": "Adhitya Izki Saputra",
      "userId": "15175889346381788584"
     },
     "user_tz": -420
    },
    "id": "-pbZzcpGal8u",
    "outputId": "fb17d683-6489-496b-d334-3b5dcb2181c4"
   },
   "outputs": [
    {
     "data": {
      "text/plain": [
       "0.42600084386091186"
      ]
     },
     "execution_count": 20,
     "metadata": {},
     "output_type": "execute_result"
    }
   ],
   "source": [
    "p_up"
   ]
  },
  {
   "cell_type": "code",
   "execution_count": 21,
   "id": "7wILIRSGcuRU",
   "metadata": {
    "colab": {
     "base_uri": "https://localhost:8080/"
    },
    "executionInfo": {
     "elapsed": 4,
     "status": "ok",
     "timestamp": 1680514152430,
     "user": {
      "displayName": "Adhitya Izki Saputra",
      "userId": "15175889346381788584"
     },
     "user_tz": -420
    },
    "id": "7wILIRSGcuRU",
    "outputId": "19f2eb47-ba7e-4ad8-b8cd-56b457948092"
   },
   "outputs": [
    {
     "data": {
      "text/plain": [
       "0.48135785810666853"
      ]
     },
     "execution_count": 21,
     "metadata": {},
     "output_type": "execute_result"
    }
   ],
   "source": [
    "p_low"
   ]
  },
  {
   "cell_type": "markdown",
   "id": "eb47ce67",
   "metadata": {
    "id": "eb47ce67"
   },
   "source": [
    "Masih lebih memungkinkan pemesanan oleh keluarga yang memesan dengan waktu selisih pemesanan dan kedatangan (lead_time) kurang dari 104 hari dengan ADR diatas 101,82 sebesar 48,14% dibandingkan dengan pemesanan oleh keluarga yang memesan dengan waktu selisih pemesanan dan kedatangan (lead_time) lebih 104 hari dengan ADR diatas 101,82 dengan probabilitas sebesar 42,60%"
   ]
  },
  {
   "cell_type": "code",
   "execution_count": null,
   "id": "45f6ae4d",
   "metadata": {
    "id": "45f6ae4d"
   },
   "outputs": [],
   "source": []
  }
 ],
 "metadata": {
  "colab": {
   "provenance": []
  },
  "kernelspec": {
   "display_name": "Python 3 (ipykernel)",
   "language": "python",
   "name": "python3"
  },
  "language_info": {
   "codemirror_mode": {
    "name": "ipython",
    "version": 3
   },
   "file_extension": ".py",
   "mimetype": "text/x-python",
   "name": "python",
   "nbconvert_exporter": "python",
   "pygments_lexer": "ipython3",
   "version": "3.9.7"
  }
 },
 "nbformat": 4,
 "nbformat_minor": 5
}
