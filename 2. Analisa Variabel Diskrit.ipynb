{
 "cells": [
  {
   "cell_type": "markdown",
   "id": "09ab58cc",
   "metadata": {},
   "source": [
    "# Question"
   ]
  },
  {
   "cell_type": "markdown",
   "id": "881b6c59",
   "metadata": {},
   "source": [
    "## 2 - Analisa Variabel Diskrit\n",
    "\n",
    "1. Distribusi peluang besar adr dari pembatalan tidaknya pemesanan hotel?\n",
    "2. Bulan apa dengan jumlah pemesanan hotel terbanyak?\n",
    "3. Berapa persentase pemesanan hotel yang dilakukan oleh tamu yang sudah pernah memesan hotel sebelumnya?\n",
    "4. Berapa peluang paling tinggi antara no deposit, no refund, dan refundable yang melakukan pembatalan pemesanan hotel?\n",
    "5. Mana yang lebih tinggi, peluang turis lokal atau non lokal yang melakukan pembatalan?"
   ]
  },
  {
   "cell_type": "markdown",
   "id": "1dfde3ac",
   "metadata": {},
   "source": [
    "# Import Libraries"
   ]
  },
  {
   "cell_type": "code",
   "execution_count": 1,
   "id": "e504f831",
   "metadata": {},
   "outputs": [],
   "source": [
    "import numpy as np\n",
    "import pandas as pd\n",
    "import matplotlib.pyplot as plt\n",
    "import seaborn as sns\n",
    "\n",
    "import warnings\n",
    "warnings.filterwarnings(\"ignore\")\n",
    "pd.set_option('display.max_columns', None)\n",
    "pd.set_option('display.max_rows', None)\n",
    "sns.set_style(\"darkgrid\")"
   ]
  },
  {
   "cell_type": "markdown",
   "id": "5d7c7975",
   "metadata": {},
   "source": [
    "# Import Dataset"
   ]
  },
  {
   "cell_type": "code",
   "execution_count": 2,
   "id": "4cabd995",
   "metadata": {},
   "outputs": [
    {
     "data": {
      "text/html": [
       "<div>\n",
       "<style scoped>\n",
       "    .dataframe tbody tr th:only-of-type {\n",
       "        vertical-align: middle;\n",
       "    }\n",
       "\n",
       "    .dataframe tbody tr th {\n",
       "        vertical-align: top;\n",
       "    }\n",
       "\n",
       "    .dataframe thead th {\n",
       "        text-align: right;\n",
       "    }\n",
       "</style>\n",
       "<table border=\"1\" class=\"dataframe\">\n",
       "  <thead>\n",
       "    <tr style=\"text-align: right;\">\n",
       "      <th></th>\n",
       "      <th>hotel</th>\n",
       "      <th>is_canceled</th>\n",
       "      <th>lead_time</th>\n",
       "      <th>arrival_date_year</th>\n",
       "      <th>arrival_date_month</th>\n",
       "      <th>arrival_date_week_number</th>\n",
       "      <th>arrival_date_day_of_month</th>\n",
       "      <th>stays_in_weekend_nights</th>\n",
       "      <th>stays_in_week_nights</th>\n",
       "      <th>adults</th>\n",
       "      <th>children</th>\n",
       "      <th>babies</th>\n",
       "      <th>meal</th>\n",
       "      <th>country</th>\n",
       "      <th>market_segment</th>\n",
       "      <th>distribution_channel</th>\n",
       "      <th>is_repeated_guest</th>\n",
       "      <th>previous_cancellations</th>\n",
       "      <th>previous_bookings_not_canceled</th>\n",
       "      <th>reserved_room_type</th>\n",
       "      <th>assigned_room_type</th>\n",
       "      <th>booking_changes</th>\n",
       "      <th>deposit_type</th>\n",
       "      <th>agent</th>\n",
       "      <th>company</th>\n",
       "      <th>days_in_waiting_list</th>\n",
       "      <th>customer_type</th>\n",
       "      <th>adr</th>\n",
       "      <th>required_car_parking_spaces</th>\n",
       "      <th>total_of_special_requests</th>\n",
       "      <th>reservation_status</th>\n",
       "      <th>reservation_status_date</th>\n",
       "    </tr>\n",
       "  </thead>\n",
       "  <tbody>\n",
       "    <tr>\n",
       "      <th>0</th>\n",
       "      <td>Resort Hotel</td>\n",
       "      <td>0</td>\n",
       "      <td>342</td>\n",
       "      <td>2015</td>\n",
       "      <td>July</td>\n",
       "      <td>27</td>\n",
       "      <td>1</td>\n",
       "      <td>0</td>\n",
       "      <td>0</td>\n",
       "      <td>2</td>\n",
       "      <td>0.0</td>\n",
       "      <td>0</td>\n",
       "      <td>BB</td>\n",
       "      <td>PRT</td>\n",
       "      <td>Direct</td>\n",
       "      <td>Direct</td>\n",
       "      <td>0</td>\n",
       "      <td>0</td>\n",
       "      <td>0</td>\n",
       "      <td>C</td>\n",
       "      <td>C</td>\n",
       "      <td>3</td>\n",
       "      <td>No Deposit</td>\n",
       "      <td>NaN</td>\n",
       "      <td>NaN</td>\n",
       "      <td>0</td>\n",
       "      <td>Transient</td>\n",
       "      <td>0.0</td>\n",
       "      <td>0</td>\n",
       "      <td>0</td>\n",
       "      <td>Check-Out</td>\n",
       "      <td>2015-07-01</td>\n",
       "    </tr>\n",
       "    <tr>\n",
       "      <th>1</th>\n",
       "      <td>Resort Hotel</td>\n",
       "      <td>0</td>\n",
       "      <td>737</td>\n",
       "      <td>2015</td>\n",
       "      <td>July</td>\n",
       "      <td>27</td>\n",
       "      <td>1</td>\n",
       "      <td>0</td>\n",
       "      <td>0</td>\n",
       "      <td>2</td>\n",
       "      <td>0.0</td>\n",
       "      <td>0</td>\n",
       "      <td>BB</td>\n",
       "      <td>PRT</td>\n",
       "      <td>Direct</td>\n",
       "      <td>Direct</td>\n",
       "      <td>0</td>\n",
       "      <td>0</td>\n",
       "      <td>0</td>\n",
       "      <td>C</td>\n",
       "      <td>C</td>\n",
       "      <td>4</td>\n",
       "      <td>No Deposit</td>\n",
       "      <td>NaN</td>\n",
       "      <td>NaN</td>\n",
       "      <td>0</td>\n",
       "      <td>Transient</td>\n",
       "      <td>0.0</td>\n",
       "      <td>0</td>\n",
       "      <td>0</td>\n",
       "      <td>Check-Out</td>\n",
       "      <td>2015-07-01</td>\n",
       "    </tr>\n",
       "    <tr>\n",
       "      <th>2</th>\n",
       "      <td>Resort Hotel</td>\n",
       "      <td>0</td>\n",
       "      <td>7</td>\n",
       "      <td>2015</td>\n",
       "      <td>July</td>\n",
       "      <td>27</td>\n",
       "      <td>1</td>\n",
       "      <td>0</td>\n",
       "      <td>1</td>\n",
       "      <td>1</td>\n",
       "      <td>0.0</td>\n",
       "      <td>0</td>\n",
       "      <td>BB</td>\n",
       "      <td>GBR</td>\n",
       "      <td>Direct</td>\n",
       "      <td>Direct</td>\n",
       "      <td>0</td>\n",
       "      <td>0</td>\n",
       "      <td>0</td>\n",
       "      <td>A</td>\n",
       "      <td>C</td>\n",
       "      <td>0</td>\n",
       "      <td>No Deposit</td>\n",
       "      <td>NaN</td>\n",
       "      <td>NaN</td>\n",
       "      <td>0</td>\n",
       "      <td>Transient</td>\n",
       "      <td>75.0</td>\n",
       "      <td>0</td>\n",
       "      <td>0</td>\n",
       "      <td>Check-Out</td>\n",
       "      <td>2015-07-02</td>\n",
       "    </tr>\n",
       "    <tr>\n",
       "      <th>3</th>\n",
       "      <td>Resort Hotel</td>\n",
       "      <td>0</td>\n",
       "      <td>13</td>\n",
       "      <td>2015</td>\n",
       "      <td>July</td>\n",
       "      <td>27</td>\n",
       "      <td>1</td>\n",
       "      <td>0</td>\n",
       "      <td>1</td>\n",
       "      <td>1</td>\n",
       "      <td>0.0</td>\n",
       "      <td>0</td>\n",
       "      <td>BB</td>\n",
       "      <td>GBR</td>\n",
       "      <td>Corporate</td>\n",
       "      <td>Corporate</td>\n",
       "      <td>0</td>\n",
       "      <td>0</td>\n",
       "      <td>0</td>\n",
       "      <td>A</td>\n",
       "      <td>A</td>\n",
       "      <td>0</td>\n",
       "      <td>No Deposit</td>\n",
       "      <td>304.0</td>\n",
       "      <td>NaN</td>\n",
       "      <td>0</td>\n",
       "      <td>Transient</td>\n",
       "      <td>75.0</td>\n",
       "      <td>0</td>\n",
       "      <td>0</td>\n",
       "      <td>Check-Out</td>\n",
       "      <td>2015-07-02</td>\n",
       "    </tr>\n",
       "    <tr>\n",
       "      <th>4</th>\n",
       "      <td>Resort Hotel</td>\n",
       "      <td>0</td>\n",
       "      <td>14</td>\n",
       "      <td>2015</td>\n",
       "      <td>July</td>\n",
       "      <td>27</td>\n",
       "      <td>1</td>\n",
       "      <td>0</td>\n",
       "      <td>2</td>\n",
       "      <td>2</td>\n",
       "      <td>0.0</td>\n",
       "      <td>0</td>\n",
       "      <td>BB</td>\n",
       "      <td>GBR</td>\n",
       "      <td>Online TA</td>\n",
       "      <td>TA/TO</td>\n",
       "      <td>0</td>\n",
       "      <td>0</td>\n",
       "      <td>0</td>\n",
       "      <td>A</td>\n",
       "      <td>A</td>\n",
       "      <td>0</td>\n",
       "      <td>No Deposit</td>\n",
       "      <td>240.0</td>\n",
       "      <td>NaN</td>\n",
       "      <td>0</td>\n",
       "      <td>Transient</td>\n",
       "      <td>98.0</td>\n",
       "      <td>0</td>\n",
       "      <td>1</td>\n",
       "      <td>Check-Out</td>\n",
       "      <td>2015-07-03</td>\n",
       "    </tr>\n",
       "  </tbody>\n",
       "</table>\n",
       "</div>"
      ],
      "text/plain": [
       "          hotel  is_canceled  lead_time  arrival_date_year arrival_date_month  \\\n",
       "0  Resort Hotel            0        342               2015               July   \n",
       "1  Resort Hotel            0        737               2015               July   \n",
       "2  Resort Hotel            0          7               2015               July   \n",
       "3  Resort Hotel            0         13               2015               July   \n",
       "4  Resort Hotel            0         14               2015               July   \n",
       "\n",
       "   arrival_date_week_number  arrival_date_day_of_month  \\\n",
       "0                        27                          1   \n",
       "1                        27                          1   \n",
       "2                        27                          1   \n",
       "3                        27                          1   \n",
       "4                        27                          1   \n",
       "\n",
       "   stays_in_weekend_nights  stays_in_week_nights  adults  children  babies  \\\n",
       "0                        0                     0       2       0.0       0   \n",
       "1                        0                     0       2       0.0       0   \n",
       "2                        0                     1       1       0.0       0   \n",
       "3                        0                     1       1       0.0       0   \n",
       "4                        0                     2       2       0.0       0   \n",
       "\n",
       "  meal country market_segment distribution_channel  is_repeated_guest  \\\n",
       "0   BB     PRT         Direct               Direct                  0   \n",
       "1   BB     PRT         Direct               Direct                  0   \n",
       "2   BB     GBR         Direct               Direct                  0   \n",
       "3   BB     GBR      Corporate            Corporate                  0   \n",
       "4   BB     GBR      Online TA                TA/TO                  0   \n",
       "\n",
       "   previous_cancellations  previous_bookings_not_canceled reserved_room_type  \\\n",
       "0                       0                               0                  C   \n",
       "1                       0                               0                  C   \n",
       "2                       0                               0                  A   \n",
       "3                       0                               0                  A   \n",
       "4                       0                               0                  A   \n",
       "\n",
       "  assigned_room_type  booking_changes deposit_type  agent  company  \\\n",
       "0                  C                3   No Deposit    NaN      NaN   \n",
       "1                  C                4   No Deposit    NaN      NaN   \n",
       "2                  C                0   No Deposit    NaN      NaN   \n",
       "3                  A                0   No Deposit  304.0      NaN   \n",
       "4                  A                0   No Deposit  240.0      NaN   \n",
       "\n",
       "   days_in_waiting_list customer_type   adr  required_car_parking_spaces  \\\n",
       "0                     0     Transient   0.0                            0   \n",
       "1                     0     Transient   0.0                            0   \n",
       "2                     0     Transient  75.0                            0   \n",
       "3                     0     Transient  75.0                            0   \n",
       "4                     0     Transient  98.0                            0   \n",
       "\n",
       "   total_of_special_requests reservation_status reservation_status_date  \n",
       "0                          0          Check-Out              2015-07-01  \n",
       "1                          0          Check-Out              2015-07-01  \n",
       "2                          0          Check-Out              2015-07-02  \n",
       "3                          0          Check-Out              2015-07-02  \n",
       "4                          1          Check-Out              2015-07-03  "
      ]
     },
     "execution_count": 2,
     "metadata": {},
     "output_type": "execute_result"
    }
   ],
   "source": [
    "df = pd.read_csv('hotel_bookings.csv')\n",
    "\n",
    "df.head(5)"
   ]
  },
  {
   "cell_type": "code",
   "execution_count": 3,
   "id": "fa959ba3",
   "metadata": {},
   "outputs": [
    {
     "name": "stdout",
     "output_type": "stream",
     "text": [
      "Index(['hotel', 'is_canceled', 'lead_time', 'arrival_date_year',\n",
      "       'arrival_date_month', 'arrival_date_week_number',\n",
      "       'arrival_date_day_of_month', 'stays_in_weekend_nights',\n",
      "       'stays_in_week_nights', 'adults', 'children', 'babies', 'meal',\n",
      "       'country', 'market_segment', 'distribution_channel',\n",
      "       'is_repeated_guest', 'previous_cancellations',\n",
      "       'previous_bookings_not_canceled', 'reserved_room_type',\n",
      "       'assigned_room_type', 'booking_changes', 'deposit_type', 'agent',\n",
      "       'company', 'days_in_waiting_list', 'customer_type', 'adr',\n",
      "       'required_car_parking_spaces', 'total_of_special_requests',\n",
      "       'reservation_status', 'reservation_status_date'],\n",
      "      dtype='object')\n"
     ]
    }
   ],
   "source": [
    "print(df.columns)"
   ]
  },
  {
   "cell_type": "markdown",
   "id": "dc36c25a",
   "metadata": {},
   "source": [
    "# Analysis"
   ]
  },
  {
   "cell_type": "markdown",
   "id": "d3ac9afa",
   "metadata": {},
   "source": [
    "## 1. Distribusi peluang besar adr dari pembatalan tidaknya pemesanan hotel?"
   ]
  },
  {
   "cell_type": "code",
   "execution_count": 4,
   "id": "7bec42d7",
   "metadata": {},
   "outputs": [],
   "source": [
    "def plot_dist_hue(col_name, col_name_base='is_canceled', df=df):\n",
    "    # plotting\n",
    "    fig, axs = plt.subplots(nrows=2, figsize=(10, 8), sharex=True, gridspec_kw={'height_ratios': [1, 4]})\n",
    "\n",
    "    ## boxplot\n",
    "    sns.boxplot(data=df, x=col_name, y=col_name_base, ax=axs[0], orient='h')\n",
    "    axs[0].set_xlabel(col_name, fontsize=14)\n",
    "    axs[0].tick_params(labelsize=12)\n",
    "\n",
    "    ## histogram and kde\n",
    "    sns.histplot(data=df, x=col_name, hue=col_name_base, multiple='layer', ax=axs[1], kde=True)\n",
    "    axs[1].set_xlabel(col_name, fontsize=14)\n",
    "    axs[1].tick_params(labelsize=12)\n",
    "\n",
    "    ## setup plot\n",
    "    axs[1].set_ylabel('frequency', fontsize=14)\n",
    "#     fig.suptitle(f'Distribution of {col_name}', fontsize=18)\n",
    "\n",
    "    plt.tight_layout()\n",
    "    plt.show()\n",
    "\n",
    "    # descriptive statistic\n",
    "    val_all = df[col_name]\n",
    "    val_yes = df[df[col_name_base]==1][col_name]\n",
    "    val_no = df[df[col_name_base]==0][col_name]\n",
    "\n",
    "    df_val = pd.concat([val_all, val_yes, val_no], axis=1)\n",
    "    df_val.columns = [f'{col_name} all', f'{col_name} {col_name_base} 1', f'{col_name} {col_name_base} 0']\n",
    "\n",
    "    df_stat = df_val.describe()\n",
    "    df_stat.loc['lower_whisker'] = df_stat.loc['25%'] - 1.5 * (df_stat.loc['75%'] - df_stat.loc['25%'])\n",
    "    df_stat.loc['upper_whisker'] = df_stat.loc['75%'] + 1.5 * (df_stat.loc['75%'] - df_stat.loc['25%'])\n",
    "\n",
    "    return df_stat"
   ]
  },
  {
   "cell_type": "code",
   "execution_count": 5,
   "id": "1938346b",
   "metadata": {},
   "outputs": [
    {
     "data": {
      "image/png": "[encoded data removed]",
      "text/plain": [
       "<Figure size 720x576 with 2 Axes>"
      ]
     },
     "metadata": {},
     "output_type": "display_data"
    },
    {
     "data": {
      "text/html": [
       "<div>\n",
       "<style scoped>\n",
       "    .dataframe tbody tr th:only-of-type {\n",
       "        vertical-align: middle;\n",
       "    }\n",
       "\n",
       "    .dataframe tbody tr th {\n",
       "        vertical-align: top;\n",
       "    }\n",
       "\n",
       "    .dataframe thead th {\n",
       "        text-align: right;\n",
       "    }\n",
       "</style>\n",
       "<table border=\"1\" class=\"dataframe\">\n",
       "  <thead>\n",
       "    <tr style=\"text-align: right;\">\n",
       "      <th></th>\n",
       "      <th>adr all</th>\n",
       "      <th>adr is_canceled 1</th>\n",
       "      <th>adr is_canceled 0</th>\n",
       "    </tr>\n",
       "  </thead>\n",
       "  <tbody>\n",
       "    <tr>\n",
       "      <th>count</th>\n",
       "      <td>117429.000000</td>\n",
       "      <td>44010.000000</td>\n",
       "      <td>73419.000000</td>\n",
       "    </tr>\n",
       "    <tr>\n",
       "      <th>mean</th>\n",
       "      <td>103.485715</td>\n",
       "      <td>105.352026</td>\n",
       "      <td>102.366980</td>\n",
       "    </tr>\n",
       "    <tr>\n",
       "      <th>std</th>\n",
       "      <td>46.708039</td>\n",
       "      <td>45.679387</td>\n",
       "      <td>47.278936</td>\n",
       "    </tr>\n",
       "    <tr>\n",
       "      <th>min</th>\n",
       "      <td>0.260000</td>\n",
       "      <td>0.500000</td>\n",
       "      <td>0.260000</td>\n",
       "    </tr>\n",
       "    <tr>\n",
       "      <th>25%</th>\n",
       "      <td>70.530000</td>\n",
       "      <td>73.425000</td>\n",
       "      <td>70.000000</td>\n",
       "    </tr>\n",
       "    <tr>\n",
       "      <th>50%</th>\n",
       "      <td>95.000000</td>\n",
       "      <td>96.300000</td>\n",
       "      <td>94.500000</td>\n",
       "    </tr>\n",
       "    <tr>\n",
       "      <th>75%</th>\n",
       "      <td>126.000000</td>\n",
       "      <td>127.815000</td>\n",
       "      <td>126.000000</td>\n",
       "    </tr>\n",
       "    <tr>\n",
       "      <th>max</th>\n",
       "      <td>510.000000</td>\n",
       "      <td>450.000000</td>\n",
       "      <td>510.000000</td>\n",
       "    </tr>\n",
       "    <tr>\n",
       "      <th>lower_whisker</th>\n",
       "      <td>-12.675000</td>\n",
       "      <td>-8.160000</td>\n",
       "      <td>-14.000000</td>\n",
       "    </tr>\n",
       "    <tr>\n",
       "      <th>upper_whisker</th>\n",
       "      <td>209.205000</td>\n",
       "      <td>209.400000</td>\n",
       "      <td>210.000000</td>\n",
       "    </tr>\n",
       "  </tbody>\n",
       "</table>\n",
       "</div>"
      ],
      "text/plain": [
       "                     adr all  adr is_canceled 1  adr is_canceled 0\n",
       "count          117429.000000       44010.000000       73419.000000\n",
       "mean              103.485715         105.352026         102.366980\n",
       "std                46.708039          45.679387          47.278936\n",
       "min                 0.260000           0.500000           0.260000\n",
       "25%                70.530000          73.425000          70.000000\n",
       "50%                95.000000          96.300000          94.500000\n",
       "75%               126.000000         127.815000         126.000000\n",
       "max               510.000000         450.000000         510.000000\n",
       "lower_whisker     -12.675000          -8.160000         -14.000000\n",
       "upper_whisker     209.205000         209.400000         210.000000"
      ]
     },
     "execution_count": 5,
     "metadata": {},
     "output_type": "execute_result"
    }
   ],
   "source": [
    "data = df[(df['adr']<5000) & (df['adr']>0)]\n",
    "plot_dist_hue('adr', df=data)"
   ]
  },
  {
   "cell_type": "markdown",
   "id": "cefd17bf",
   "metadata": {},
   "source": [
    "Dengan melakukan filtering pada ADR dengan menghilangkan nilai ADR paling ekstrim dan nilai ADR dibawah 0, didapati rerata ADR yang membatalkan (105,35) lebih besar dibandingkan dengan yang tidak membatalkan (102,37). Selain itu, \n",
    "terlihat juga bahwa deviasi standar ADR pada reservasi yang dibatalkan dan tidak dibatalkan tidak terlalu jauh berbeda, sehingga bisa dikatakan bahwa persebaran ADR pada kedua kategori tersebut relatif serupa.\n",
    "Dari data distribusi dan statistik deskriptif ini, dapat ditarik kesimpulan bahwa harga ADR dapat mempengaruhi keputusan pelanggan untuk membatalkan reservasi mereka."
   ]
  },
  {
   "cell_type": "markdown",
   "id": "19efd2e3",
   "metadata": {},
   "source": [
    "## 2. Bulan apa dengan jumlah pemesanan hotel terbanyak?"
   ]
  },
  {
   "cell_type": "code",
   "execution_count": 7,
   "id": "d7ff1ce1",
   "metadata": {},
   "outputs": [
    {
     "data": {
      "image/png": "[encoded data removed]",
      "text/plain": [
       "<Figure size 864x360 with 1 Axes>"
      ]
     },
     "metadata": {},
     "output_type": "display_data"
    }
   ],
   "source": [
    "# preprocess to month year\n",
    "temp_date = df.groupby(['arrival_date_year', 'arrival_date_month'])['hotel'].count().reset_index()\n",
    "month_year = temp_date[['arrival_date_month', 'arrival_date_year']].apply(lambda x: x[0] + ' ' + str(x[1]), axis=1)\n",
    "month_year = pd.to_datetime(month_year, format='%B %Y')\n",
    "temp_date['month year'] = month_year\n",
    "temp_date = temp_date.set_index('month year')\n",
    "\n",
    "# line plot\n",
    "plt.figure(figsize=(12,5))\n",
    "temp_date['hotel'].plot(kind='line')\n",
    "plt.xlabel('year-month')\n",
    "plt.ylabel('count')\n",
    "plt.show()"
   ]
  },
  {
   "cell_type": "markdown",
   "id": "eb47ce67",
   "metadata": {},
   "source": [
    "- Pemesanan hotel mengalami fluktuasi setiap bulannya.\n",
    "- Mei 2017 merupakan pemesanan hotel terbanyak sebesar 6313.\n",
    "- Mei 2016 menjadi pemesanan terbesar kedua selama tahun 2016 sebesar 5478.\n",
    "- Dapat indikasikan bulan Mei menjadi puncak pemesanan hotel.\n",
    "- Terjadi peningkatan pemesanan hotel pada selang waktu Januari hingga Mei 2016."
   ]
  },
  {
   "cell_type": "markdown",
   "id": "a99cfc3c",
   "metadata": {},
   "source": [
    "## 3. Berapa persentase pemesanan hotel yang dilakukan oleh tamu yang sudah pernah memesan hotel sebelumnya?"
   ]
  },
  {
   "cell_type": "code",
   "execution_count": 9,
   "id": "691634c4",
   "metadata": {},
   "outputs": [
    {
     "data": {
      "image/png": "[encoded data removed]",
      "text/plain": [
       "<Figure size 864x360 with 1 Axes>"
      ]
     },
     "metadata": {},
     "output_type": "display_data"
    },
    {
     "data": {
      "text/plain": [
       "0    0.968088\n",
       "1    0.031912\n",
       "Name: is_repeated_guest, dtype: float64"
      ]
     },
     "execution_count": 9,
     "metadata": {},
     "output_type": "execute_result"
    }
   ],
   "source": [
    "# define color bar\n",
    "colors = sns.color_palette()[:2]\n",
    "\n",
    "# bar plot\n",
    "plt.figure(figsize=(12,5))\n",
    "df['is_repeated_guest'].value_counts().plot(kind='bar', color=colors)\n",
    "plt.show()\n",
    "\n",
    "# proportion\n",
    "df['is_repeated_guest'].value_counts()/len(df)"
   ]
  },
  {
   "cell_type": "markdown",
   "id": "3ed98c0a",
   "metadata": {},
   "source": [
    "Diketahui sebesar 3810 atau 3,19% tamu yang melakukan pemesanan ke hotel yang sama. Menunjukkan bahwa pemesanan hotel banyak merupakan tamu baru."
   ]
  },
  {
   "cell_type": "markdown",
   "id": "2c99c73b",
   "metadata": {},
   "source": [
    "## 4. Berapa peluang paling tinggi antara no deposit, no refund, dan refundable yang melakukan pembatalan pemesanan hotel?"
   ]
  },
  {
   "cell_type": "code",
   "execution_count": 10,
   "id": "194b0f1e",
   "metadata": {},
   "outputs": [
    {
     "data": {
      "image/png": "[encoded data removed]",
      "text/plain": [
       "<Figure size 864x360 with 1 Axes>"
      ]
     },
     "metadata": {},
     "output_type": "display_data"
    },
    {
     "data": {
      "text/plain": [
       "deposit_type  is_canceled\n",
       "No Deposit    0              71.622978\n",
       "              1              28.377022\n",
       "Non Refund    0               0.637554\n",
       "              1              99.362446\n",
       "Refundable    0              77.777778\n",
       "              1              22.222222\n",
       "dtype: float64"
      ]
     },
     "execution_count": 10,
     "metadata": {},
     "output_type": "execute_result"
    }
   ],
   "source": [
    "# bar plot\n",
    "plt.figure(figsize=(12,5))\n",
    "sns.countplot(data=df, x='deposit_type', hue='is_canceled')\n",
    "plt.show()\n",
    "\n",
    "# proportion each type\n",
    "total_deposit = df.groupby('deposit_type')['deposit_type'].count()\n",
    "count_deposit = df.groupby(['deposit_type', 'is_canceled'])['is_canceled'].count()\n",
    "(count_deposit/total_deposit) * 100"
   ]
  },
  {
   "cell_type": "markdown",
   "id": "0898fdca",
   "metadata": {},
   "source": [
    "- Pemesanan yang menggunakan jenis deposit non refund memiliki peluang yang besar sebesar 99,36% untuk melakukan pembatalan pemesanan.\n",
    "- Pemesanan tidak menggunakan deposit memiliki peluang 28,37% melakukan pembatalan pemesanan, hal tersebut dapat merugikan pihak hotel sehingga pemesan dapat dianjurkan untuk menggunakan jenis deposit refundable dan menawarkan beberapa diskon pada pemesanan refundable."
   ]
  },
  {
   "cell_type": "markdown",
   "id": "b46ac4ba",
   "metadata": {},
   "source": [
    "## 5. Mana yang lebih tinggi, peluang turis lokal atau non lokal yang melakukan pembatalan?"
   ]
  },
  {
   "cell_type": "code",
   "execution_count": 11,
   "id": "12af07fa",
   "metadata": {},
   "outputs": [
    {
     "data": {
      "image/png": "[encoded data removed]",
      "text/plain": [
       "<Figure size 864x360 with 1 Axes>"
      ]
     },
     "metadata": {},
     "output_type": "display_data"
    },
    {
     "data": {
      "text/plain": [
       "tourist  is_canceled\n",
       "inter    0              76.405367\n",
       "         1              23.594633\n",
       "local    0              43.364890\n",
       "         1              56.635110\n",
       "dtype: float64"
      ]
     },
     "execution_count": 11,
     "metadata": {},
     "output_type": "execute_result"
    }
   ],
   "source": [
    "# define local non local tourist\n",
    "df['tourist'] = df['country'].apply(lambda x: 'local' if x=='PRT' else 'inter')\n",
    "\n",
    "# bar plot\n",
    "plt.figure(figsize=(12,5))\n",
    "sns.countplot(data=df, x='tourist', hue='is_canceled')\n",
    "plt.show()\n",
    "\n",
    "# proportion each type\n",
    "total_tourist = df.groupby('tourist')['tourist'].count()\n",
    "count_tourist = df.groupby(['tourist', 'is_canceled'])['is_canceled'].count()\n",
    "(count_tourist/total_tourist) * 100"
   ]
  },
  {
   "cell_type": "code",
   "execution_count": 12,
   "id": "d422ced3",
   "metadata": {},
   "outputs": [
    {
     "data": {
      "text/plain": [
       "tourist  is_canceled\n",
       "inter    0              54095\n",
       "         1              16705\n",
       "local    0              21071\n",
       "         1              27519\n",
       "Name: is_canceled, dtype: int64"
      ]
     },
     "execution_count": 12,
     "metadata": {},
     "output_type": "execute_result"
    }
   ],
   "source": [
    "count_tourist"
   ]
  },
  {
   "cell_type": "markdown",
   "id": "d97358da",
   "metadata": {},
   "source": [
    "- Turis lokal memiliki peluang untuk membatalkan pemesanan lebih tinggi (56,64%) dibandingkan dengan turis asing.\n",
    "- Hal tersebut dapat menjadi pertimbanagn pihak hotel dengan memberikan promo kepada turis lokal untuk menurunkan peluang pembatalan dan/atau dapat memfokuskan penjualan pemesanan hotel kepada turis asing. "
   ]
  },
  {
   "cell_type": "code",
   "execution_count": null,
   "id": "45f6ae4d",
   "metadata": {},
   "outputs": [],
   "source": []
  }
 ],
 "metadata": {
  "kernelspec": {
   "display_name": "Python 3 (ipykernel)",
   "language": "python",
   "name": "python3"
  },
  "language_info": {
   "codemirror_mode": {
    "name": "ipython",
    "version": 3
   },
   "file_extension": ".py",
   "mimetype": "text/x-python",
   "name": "python",
   "nbconvert_exporter": "python",
   "pygments_lexer": "ipython3",
   "version": "3.9.7"
  }
 },
 "nbformat": 4,
 "nbformat_minor": 5
}
