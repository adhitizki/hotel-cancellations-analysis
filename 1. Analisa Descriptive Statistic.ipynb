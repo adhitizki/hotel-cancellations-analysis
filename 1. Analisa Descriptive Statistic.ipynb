{
 "cells": [
  {
   "cell_type": "markdown",
   "id": "5cd135c7",
   "metadata": {},
   "source": [
    "# Question"
   ]
  },
  {
   "cell_type": "markdown",
   "id": "7a85e5cb",
   "metadata": {},
   "source": [
    "## 1 - Analisa Descriptive Statistic\n",
    "\n",
    "1. Berapa tingkat pembatalan secara keseluruhan untuk pemesanan hotel?\n",
    "2. Berapa tingkat pembatalan untuk masing-masing hotel?\n",
    "3. Mana yang lebih tinggi, rata-rata tarif harian (ADR) untuk pemesanan hotel yang dibatalkan atau yang tidak dibatalkan?\n",
    "4. Berapa tingkat pembatalan untuk pemesanan yang dilakukan melalui masing-masing saluran distribusi?\n",
    "5. Mana yang lebih tinggi, rata-rata waktu pemesanan untuk hotel dibatalkan atau yang tidak dibatalkan?"
   ]
  },
  {
   "cell_type": "markdown",
   "id": "86412416",
   "metadata": {},
   "source": [
    "# Import Libraries"
   ]
  },
  {
   "cell_type": "code",
   "execution_count": 1,
   "id": "15612ec3",
   "metadata": {},
   "outputs": [],
   "source": [
    "import numpy as np\n",
    "import pandas as pd\n",
    "import matplotlib.pyplot as plt\n",
    "import seaborn as sns\n",
    "\n",
    "import warnings\n",
    "warnings.filterwarnings(\"ignore\")\n",
    "pd.set_option('display.max_columns', None)\n",
    "pd.set_option('display.max_rows', None)\n",
    "sns.set_style(\"darkgrid\")"
   ]
  },
  {
   "cell_type": "markdown",
   "id": "139151bb",
   "metadata": {},
   "source": [
    "# Import Dataset"
   ]
  },
  {
   "cell_type": "code",
   "execution_count": 2,
   "id": "0bbbcf57",
   "metadata": {},
   "outputs": [
    {
     "data": {
      "text/html": [
       "<div>\n",
       "<style scoped>\n",
       "    .dataframe tbody tr th:only-of-type {\n",
       "        vertical-align: middle;\n",
       "    }\n",
       "\n",
       "    .dataframe tbody tr th {\n",
       "        vertical-align: top;\n",
       "    }\n",
       "\n",
       "    .dataframe thead th {\n",
       "        text-align: right;\n",
       "    }\n",
       "</style>\n",
       "<table border=\"1\" class=\"dataframe\">\n",
       "  <thead>\n",
       "    <tr style=\"text-align: right;\">\n",
       "      <th></th>\n",
       "      <th>hotel</th>\n",
       "      <th>is_canceled</th>\n",
       "      <th>lead_time</th>\n",
       "      <th>arrival_date_year</th>\n",
       "      <th>arrival_date_month</th>\n",
       "      <th>arrival_date_week_number</th>\n",
       "      <th>arrival_date_day_of_month</th>\n",
       "      <th>stays_in_weekend_nights</th>\n",
       "      <th>stays_in_week_nights</th>\n",
       "      <th>adults</th>\n",
       "      <th>children</th>\n",
       "      <th>babies</th>\n",
       "      <th>meal</th>\n",
       "      <th>country</th>\n",
       "      <th>market_segment</th>\n",
       "      <th>distribution_channel</th>\n",
       "      <th>is_repeated_guest</th>\n",
       "      <th>previous_cancellations</th>\n",
       "      <th>previous_bookings_not_canceled</th>\n",
       "      <th>reserved_room_type</th>\n",
       "      <th>assigned_room_type</th>\n",
       "      <th>booking_changes</th>\n",
       "      <th>deposit_type</th>\n",
       "      <th>agent</th>\n",
       "      <th>company</th>\n",
       "      <th>days_in_waiting_list</th>\n",
       "      <th>customer_type</th>\n",
       "      <th>adr</th>\n",
       "      <th>required_car_parking_spaces</th>\n",
       "      <th>total_of_special_requests</th>\n",
       "      <th>reservation_status</th>\n",
       "      <th>reservation_status_date</th>\n",
       "    </tr>\n",
       "  </thead>\n",
       "  <tbody>\n",
       "    <tr>\n",
       "      <th>0</th>\n",
       "      <td>Resort Hotel</td>\n",
       "      <td>0</td>\n",
       "      <td>342</td>\n",
       "      <td>2015</td>\n",
       "      <td>July</td>\n",
       "      <td>27</td>\n",
       "      <td>1</td>\n",
       "      <td>0</td>\n",
       "      <td>0</td>\n",
       "      <td>2</td>\n",
       "      <td>0.0</td>\n",
       "      <td>0</td>\n",
       "      <td>BB</td>\n",
       "      <td>PRT</td>\n",
       "      <td>Direct</td>\n",
       "      <td>Direct</td>\n",
       "      <td>0</td>\n",
       "      <td>0</td>\n",
       "      <td>0</td>\n",
       "      <td>C</td>\n",
       "      <td>C</td>\n",
       "      <td>3</td>\n",
       "      <td>No Deposit</td>\n",
       "      <td>NaN</td>\n",
       "      <td>NaN</td>\n",
       "      <td>0</td>\n",
       "      <td>Transient</td>\n",
       "      <td>0.0</td>\n",
       "      <td>0</td>\n",
       "      <td>0</td>\n",
       "      <td>Check-Out</td>\n",
       "      <td>2015-07-01</td>\n",
       "    </tr>\n",
       "    <tr>\n",
       "      <th>1</th>\n",
       "      <td>Resort Hotel</td>\n",
       "      <td>0</td>\n",
       "      <td>737</td>\n",
       "      <td>2015</td>\n",
       "      <td>July</td>\n",
       "      <td>27</td>\n",
       "      <td>1</td>\n",
       "      <td>0</td>\n",
       "      <td>0</td>\n",
       "      <td>2</td>\n",
       "      <td>0.0</td>\n",
       "      <td>0</td>\n",
       "      <td>BB</td>\n",
       "      <td>PRT</td>\n",
       "      <td>Direct</td>\n",
       "      <td>Direct</td>\n",
       "      <td>0</td>\n",
       "      <td>0</td>\n",
       "      <td>0</td>\n",
       "      <td>C</td>\n",
       "      <td>C</td>\n",
       "      <td>4</td>\n",
       "      <td>No Deposit</td>\n",
       "      <td>NaN</td>\n",
       "      <td>NaN</td>\n",
       "      <td>0</td>\n",
       "      <td>Transient</td>\n",
       "      <td>0.0</td>\n",
       "      <td>0</td>\n",
       "      <td>0</td>\n",
       "      <td>Check-Out</td>\n",
       "      <td>2015-07-01</td>\n",
       "    </tr>\n",
       "    <tr>\n",
       "      <th>2</th>\n",
       "      <td>Resort Hotel</td>\n",
       "      <td>0</td>\n",
       "      <td>7</td>\n",
       "      <td>2015</td>\n",
       "      <td>July</td>\n",
       "      <td>27</td>\n",
       "      <td>1</td>\n",
       "      <td>0</td>\n",
       "      <td>1</td>\n",
       "      <td>1</td>\n",
       "      <td>0.0</td>\n",
       "      <td>0</td>\n",
       "      <td>BB</td>\n",
       "      <td>GBR</td>\n",
       "      <td>Direct</td>\n",
       "      <td>Direct</td>\n",
       "      <td>0</td>\n",
       "      <td>0</td>\n",
       "      <td>0</td>\n",
       "      <td>A</td>\n",
       "      <td>C</td>\n",
       "      <td>0</td>\n",
       "      <td>No Deposit</td>\n",
       "      <td>NaN</td>\n",
       "      <td>NaN</td>\n",
       "      <td>0</td>\n",
       "      <td>Transient</td>\n",
       "      <td>75.0</td>\n",
       "      <td>0</td>\n",
       "      <td>0</td>\n",
       "      <td>Check-Out</td>\n",
       "      <td>2015-07-02</td>\n",
       "    </tr>\n",
       "    <tr>\n",
       "      <th>3</th>\n",
       "      <td>Resort Hotel</td>\n",
       "      <td>0</td>\n",
       "      <td>13</td>\n",
       "      <td>2015</td>\n",
       "      <td>July</td>\n",
       "      <td>27</td>\n",
       "      <td>1</td>\n",
       "      <td>0</td>\n",
       "      <td>1</td>\n",
       "      <td>1</td>\n",
       "      <td>0.0</td>\n",
       "      <td>0</td>\n",
       "      <td>BB</td>\n",
       "      <td>GBR</td>\n",
       "      <td>Corporate</td>\n",
       "      <td>Corporate</td>\n",
       "      <td>0</td>\n",
       "      <td>0</td>\n",
       "      <td>0</td>\n",
       "      <td>A</td>\n",
       "      <td>A</td>\n",
       "      <td>0</td>\n",
       "      <td>No Deposit</td>\n",
       "      <td>304.0</td>\n",
       "      <td>NaN</td>\n",
       "      <td>0</td>\n",
       "      <td>Transient</td>\n",
       "      <td>75.0</td>\n",
       "      <td>0</td>\n",
       "      <td>0</td>\n",
       "      <td>Check-Out</td>\n",
       "      <td>2015-07-02</td>\n",
       "    </tr>\n",
       "    <tr>\n",
       "      <th>4</th>\n",
       "      <td>Resort Hotel</td>\n",
       "      <td>0</td>\n",
       "      <td>14</td>\n",
       "      <td>2015</td>\n",
       "      <td>July</td>\n",
       "      <td>27</td>\n",
       "      <td>1</td>\n",
       "      <td>0</td>\n",
       "      <td>2</td>\n",
       "      <td>2</td>\n",
       "      <td>0.0</td>\n",
       "      <td>0</td>\n",
       "      <td>BB</td>\n",
       "      <td>GBR</td>\n",
       "      <td>Online TA</td>\n",
       "      <td>TA/TO</td>\n",
       "      <td>0</td>\n",
       "      <td>0</td>\n",
       "      <td>0</td>\n",
       "      <td>A</td>\n",
       "      <td>A</td>\n",
       "      <td>0</td>\n",
       "      <td>No Deposit</td>\n",
       "      <td>240.0</td>\n",
       "      <td>NaN</td>\n",
       "      <td>0</td>\n",
       "      <td>Transient</td>\n",
       "      <td>98.0</td>\n",
       "      <td>0</td>\n",
       "      <td>1</td>\n",
       "      <td>Check-Out</td>\n",
       "      <td>2015-07-03</td>\n",
       "    </tr>\n",
       "  </tbody>\n",
       "</table>\n",
       "</div>"
      ],
      "text/plain": [
       "          hotel  is_canceled  lead_time  arrival_date_year arrival_date_month  \\\n",
       "0  Resort Hotel            0        342               2015               July   \n",
       "1  Resort Hotel            0        737               2015               July   \n",
       "2  Resort Hotel            0          7               2015               July   \n",
       "3  Resort Hotel            0         13               2015               July   \n",
       "4  Resort Hotel            0         14               2015               July   \n",
       "\n",
       "   arrival_date_week_number  arrival_date_day_of_month  \\\n",
       "0                        27                          1   \n",
       "1                        27                          1   \n",
       "2                        27                          1   \n",
       "3                        27                          1   \n",
       "4                        27                          1   \n",
       "\n",
       "   stays_in_weekend_nights  stays_in_week_nights  adults  children  babies  \\\n",
       "0                        0                     0       2       0.0       0   \n",
       "1                        0                     0       2       0.0       0   \n",
       "2                        0                     1       1       0.0       0   \n",
       "3                        0                     1       1       0.0       0   \n",
       "4                        0                     2       2       0.0       0   \n",
       "\n",
       "  meal country market_segment distribution_channel  is_repeated_guest  \\\n",
       "0   BB     PRT         Direct               Direct                  0   \n",
       "1   BB     PRT         Direct               Direct                  0   \n",
       "2   BB     GBR         Direct               Direct                  0   \n",
       "3   BB     GBR      Corporate            Corporate                  0   \n",
       "4   BB     GBR      Online TA                TA/TO                  0   \n",
       "\n",
       "   previous_cancellations  previous_bookings_not_canceled reserved_room_type  \\\n",
       "0                       0                               0                  C   \n",
       "1                       0                               0                  C   \n",
       "2                       0                               0                  A   \n",
       "3                       0                               0                  A   \n",
       "4                       0                               0                  A   \n",
       "\n",
       "  assigned_room_type  booking_changes deposit_type  agent  company  \\\n",
       "0                  C                3   No Deposit    NaN      NaN   \n",
       "1                  C                4   No Deposit    NaN      NaN   \n",
       "2                  C                0   No Deposit    NaN      NaN   \n",
       "3                  A                0   No Deposit  304.0      NaN   \n",
       "4                  A                0   No Deposit  240.0      NaN   \n",
       "\n",
       "   days_in_waiting_list customer_type   adr  required_car_parking_spaces  \\\n",
       "0                     0     Transient   0.0                            0   \n",
       "1                     0     Transient   0.0                            0   \n",
       "2                     0     Transient  75.0                            0   \n",
       "3                     0     Transient  75.0                            0   \n",
       "4                     0     Transient  98.0                            0   \n",
       "\n",
       "   total_of_special_requests reservation_status reservation_status_date  \n",
       "0                          0          Check-Out              2015-07-01  \n",
       "1                          0          Check-Out              2015-07-01  \n",
       "2                          0          Check-Out              2015-07-02  \n",
       "3                          0          Check-Out              2015-07-02  \n",
       "4                          1          Check-Out              2015-07-03  "
      ]
     },
     "execution_count": 2,
     "metadata": {},
     "output_type": "execute_result"
    }
   ],
   "source": [
    "df = pd.read_csv('hotel_bookings.csv')\n",
    "\n",
    "df.head(5)"
   ]
  },
  {
   "cell_type": "markdown",
   "id": "cab4205e",
   "metadata": {},
   "source": [
    "# Analysis"
   ]
  },
  {
   "cell_type": "markdown",
   "id": "cbef3433",
   "metadata": {},
   "source": [
    "## 1. Berapa tingkat pembatalan secara keseluruhan untuk pemesanan hotel?"
   ]
  },
  {
   "cell_type": "code",
   "execution_count": 4,
   "id": "ea9c4044",
   "metadata": {},
   "outputs": [
    {
     "data": {
      "image/png": "[encoded data removed]",
      "text/plain": [
       "<Figure size 864x360 with 1 Axes>"
      ]
     },
     "metadata": {},
     "output_type": "display_data"
    },
    {
     "data": {
      "text/plain": [
       "0    0.629584\n",
       "1    0.370416\n",
       "Name: is_canceled, dtype: float64"
      ]
     },
     "execution_count": 4,
     "metadata": {},
     "output_type": "execute_result"
    }
   ],
   "source": [
    "# define color bar\n",
    "colors = sns.color_palette()[:2]\n",
    "\n",
    "# bar plot\n",
    "plt.figure(figsize=(12,5))\n",
    "df['is_canceled'].value_counts().plot(kind='bar', color=colors)\n",
    "plt.show()\n",
    "\n",
    "# proportion\n",
    "df['is_canceled'].value_counts()/len(df)"
   ]
  },
  {
   "cell_type": "markdown",
   "id": "4408a784",
   "metadata": {},
   "source": [
    "Berdasarkan data tersebut terdapat 75.166 (62.96%) yangh tidak dibatalkan dan 44.224 (37.04%) pemesanan yang dibatalkan. Menunjukkan terdapat lebih dari sepertiga data merupakan pemesanan yang dibatalkan. Jika proporsi ini memang mengacu pada data sebenarnya, maka pihak pengelola hotel serta pihak pemerintah dalam hal pariwisata perlu membuat kebijakan dan/atau strategi untuk mengurangi pembatalan pemesanan hotel tersebut."
   ]
  },
  {
   "cell_type": "markdown",
   "id": "7ad2a33d",
   "metadata": {},
   "source": [
    "## 2. Berapa tingkat pembatalan untuk masing-masing hotel?"
   ]
  },
  {
   "cell_type": "code",
   "execution_count": 5,
   "id": "1ff18b03",
   "metadata": {},
   "outputs": [
    {
     "data": {
      "image/png": "[encoded data removed]",
      "text/plain": [
       "<Figure size 864x360 with 1 Axes>"
      ]
     },
     "metadata": {},
     "output_type": "display_data"
    },
    {
     "data": {
      "text/plain": [
       "hotel         is_canceled\n",
       "City Hotel    0              58.273037\n",
       "              1              41.726963\n",
       "Resort Hotel  0              72.236645\n",
       "              1              27.763355\n",
       "dtype: float64"
      ]
     },
     "execution_count": 5,
     "metadata": {},
     "output_type": "execute_result"
    }
   ],
   "source": [
    "# bar plot\n",
    "plt.figure(figsize=(12,5))\n",
    "sns.countplot(data=df, x='hotel', hue='is_canceled')\n",
    "plt.show()\n",
    "\n",
    "# proportion each type\n",
    "total_bookings = df.groupby('hotel')['hotel'].count()\n",
    "count_bookings = df.groupby(['hotel', 'is_canceled'])['is_canceled'].count()\n",
    "(count_bookings/total_bookings) * 100"
   ]
  },
  {
   "cell_type": "markdown",
   "id": "0adaed19",
   "metadata": {},
   "source": [
    "- Pada Resort Hotel memiliki pembatalan sebesar 2893 atau sebesar 27,76%\n",
    "- Pada City Hotel memiliki pembatalan sebesar 33102 atau sebesar 41,73%\n",
    "- Menunjukkan City Hotel memiliki kemungkinan pembatalan lebih besar dibandingkan dengan Resort Hotel."
   ]
  },
  {
   "cell_type": "markdown",
   "id": "c8dcf3dd",
   "metadata": {},
   "source": [
    "## 3. Mana yang lebih tinggi, rata-rata tarif harian (ADR) untuk pemesanan hotel yang dibatalkan atau yang tidak dibatalkan?"
   ]
  },
  {
   "cell_type": "code",
   "execution_count": 6,
   "id": "c1f38a0c",
   "metadata": {},
   "outputs": [
    {
     "data": {
      "image/png": "[encoded data removed]",
      "text/plain": [
       "<Figure size 864x360 with 1 Axes>"
      ]
     },
     "metadata": {},
     "output_type": "display_data"
    }
   ],
   "source": [
    "# define color bar\n",
    "colors = sns.color_palette()[:2]\n",
    "\n",
    "# barplot\n",
    "plt.figure(figsize=(12,5))\n",
    "df.groupby(['is_canceled'])['adr'].mean().plot(kind='bar', color=colors, ylabel='adr')\n",
    "plt.show()"
   ]
  },
  {
   "cell_type": "markdown",
   "id": "312cdad8",
   "metadata": {},
   "source": [
    "Diketahui rerata ADR jika melakukan pembatalan hotel sebesar 104,96. Dimana rerata itu lebih tinggi dibandingkand dengan rerata yang tidak melakukan pembatalan. Hal ini dapat menjadi landasan jika pengelola hotel dapat memberikan harga lebih rendah atau kompetitif untuk mengurangi tingkat pembatalan hotel."
   ]
  },
  {
   "cell_type": "markdown",
   "id": "b3e22b8d",
   "metadata": {},
   "source": [
    "## 4. Berapa tingkat pembatalan untuk pemesanan yang dilakukan melalui masing-masing saluran distribusi?"
   ]
  },
  {
   "cell_type": "code",
   "execution_count": 7,
   "id": "cd1c3d66",
   "metadata": {},
   "outputs": [
    {
     "data": {
      "image/png": "[encoded data removed]",
      "text/plain": [
       "<Figure size 864x360 with 1 Axes>"
      ]
     },
     "metadata": {},
     "output_type": "display_data"
    },
    {
     "data": {
      "text/plain": [
       "distribution_channel  is_canceled\n",
       "Corporate             0              77.924217\n",
       "                      1              22.075783\n",
       "Direct                0              82.540116\n",
       "                      1              17.459884\n",
       "GDS                   0              80.829016\n",
       "                      1              19.170984\n",
       "TA/TO                 0              58.974149\n",
       "                      1              41.025851\n",
       "Undefined             0              20.000000\n",
       "                      1              80.000000\n",
       "dtype: float64"
      ]
     },
     "execution_count": 7,
     "metadata": {},
     "output_type": "execute_result"
    }
   ],
   "source": [
    "# bar plot\n",
    "plt.figure(figsize=(12,5))\n",
    "sns.countplot(data=df, x='distribution_channel', hue='is_canceled')\n",
    "plt.show()\n",
    "\n",
    "# proportion each type\n",
    "total_bookings = df.groupby('distribution_channel')['distribution_channel'].count()\n",
    "count_bookings = df.groupby(['distribution_channel', 'is_canceled'])['is_canceled'].count()\n",
    "(count_bookings/total_bookings) * 100"
   ]
  },
  {
   "cell_type": "markdown",
   "id": "815d0347",
   "metadata": {},
   "source": [
    "- Probabilitas pemesanan dibatalkan untuk  TA/TO sebesar 41.03% dengan TA/TO merupkan saluran distribusi yang mendominasi dibandingkan dengan yang lain.\n",
    "- Pihak hotel perlu menyelidiki saluran distribusi TA/TO terkait besarnya probabilitas pembatalan karena saluran distribusi tersebut mendominasi pemesanan hotel.\n",
    "- Saluran distribusi Direct memiliki probabilitas paling rendah dibandingkan dengan yang lainnya. Pihak hotel dapat memprioritaskan pembelian menggunakan saluran Direct karena hal tersebut."
   ]
  },
  {
   "cell_type": "markdown",
   "id": "d8242094",
   "metadata": {},
   "source": [
    "## 5. Mana yang lebih tinggi, rata-rata waktu pemesanan untuk hotel dibatalkan atau yang tidak dibatalkan?"
   ]
  },
  {
   "cell_type": "code",
   "execution_count": 8,
   "id": "0031a634",
   "metadata": {},
   "outputs": [
    {
     "data": {
      "image/png": "[encoded data removed]",
      "text/plain": [
       "<Figure size 864x360 with 1 Axes>"
      ]
     },
     "metadata": {},
     "output_type": "display_data"
    }
   ],
   "source": [
    "# define color bar\n",
    "plt.figure(figsize=(12,5))\n",
    "colors = sns.color_palette()[:2]\n",
    "\n",
    "# barplot\n",
    "df.groupby(['is_canceled'])['lead_time'].mean().plot(kind='bar', color=colors, ylabel='lead_time')\n",
    "plt.show()"
   ]
  },
  {
   "cell_type": "markdown",
   "id": "7cf40b4c",
   "metadata": {},
   "source": [
    "Menunjukkan semakin lama seseorang melakukan waktu pemesanan (interval antara waktu pemesanan dengan kedatangan) semakin besar peluang seseorang untuk melakukan pemnatalan pemesanan hotel. Namun perlu analisis lebih lanjut mengenai hal terdsebut"
   ]
  },
  {
   "cell_type": "code",
   "execution_count": null,
   "id": "1cd250b0",
   "metadata": {},
   "outputs": [],
   "source": []
  }
 ],
 "metadata": {
  "kernelspec": {
   "display_name": "Python 3 (ipykernel)",
   "language": "python",
   "name": "python3"
  },
  "language_info": {
   "codemirror_mode": {
    "name": "ipython",
    "version": 3
   },
   "file_extension": ".py",
   "mimetype": "text/x-python",
   "name": "python",
   "nbconvert_exporter": "python",
   "pygments_lexer": "ipython3",
   "version": "3.9.7"
  }
 },
 "nbformat": 4,
 "nbformat_minor": 5
}
